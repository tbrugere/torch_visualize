{
 "cells": [
  {
   "cell_type": "code",
   "execution_count": 232,
   "id": "5ef41326-2600-46f6-a6fe-30b661037cc3",
   "metadata": {},
   "outputs": [],
   "source": [
    "import torch\n",
    "\n",
    "import contextlib\n",
    "import itertools as it\n",
    "import functools as ft\n",
    "from io import StringIO\n",
    "from IPython.display import display, HTML\n",
    "from ipywidgets import widgets\n",
    "import torchviz\n",
    "\n",
    "\n",
    "#def "
   ]
  },
  {
   "cell_type": "code",
   "execution_count": 275,
   "id": "b2bd2c8f-a004-4f06-ada5-7826635c0f9d",
   "metadata": {},
   "outputs": [],
   "source": [
    "@contextlib.contextmanager\n",
    "def html_tag(t, *, dest, style=None):\n",
    "    style_str = \"\" if style is None else f'style=\"{style}\"'\n",
    "    dest.write(f\"<{t} {style_str}>\")\n",
    "    yield\n",
    "    dest.write(f\"</{t}>\")\n",
    "\n",
    "def table_html(table, styles=\"\", default_td_style=\"box-shadow: 4px 2px 5px grey;\"):\n",
    "    res = StringIO()\n",
    "    tag = ft.partial(html_tag, dest=res)\n",
    "    if isinstance(styles, str): styles= it.repeat(styles)\n",
    "    with tag(\"table\", style=\"table-layout: fixed; border-spacing: 3px; border-collapse: separate\"), tag(\"tbody\"):\n",
    "        for row, row_style in zip(table, styles):\n",
    "            if isinstance(row_style, str): row_style = it.repeat(row_style)\n",
    "            with tag(\"tr\"):\n",
    "                for value, style in zip(row, row_style,):\n",
    "                    with tag(\"td\", style=f\"{default_td_style} {style}\"):\n",
    "                        res.write(value)\n",
    "\n",
    "    return res.getvalue()\n",
    "\n",
    "n_colors = 10\n",
    "colors = [f\"hsl({hue}, 70%, 80%)\" for hue in range(0, 360, 360//n_colors)]\n",
    "colors_styles = [f\"background-color: {color}\" for color in colors]\n",
    "\n",
    "def get_style_from_color_indices(color_list):\n",
    "    match color_list:\n",
    "        case []:\n",
    "            return \"background-color: white\"\n",
    "        case [c]:\n",
    "            c_= colors[c  % len(colors)]\n",
    "            return f\"background-color: {c_}\"\n",
    "        case [*cs]:\n",
    "            n_colors = len(color_list)\n",
    "            percentages = [f\"{k/n_colors:.0%}\" for k in range(n_colors +1)]\n",
    "            s = StringIO()\n",
    "            s.write(\"background: linear-gradient( to bottom\")\n",
    "            for c, p0, p1 in zip(cs, percentages[:-1], percentages[1:]):\n",
    "                c_ = colors[c  % len(colors)]\n",
    "                s.write(f\", {c_} {p0} {p1}\")\n",
    "            s.write(\")\")\n",
    "            return s.getvalue()\n",
    "\n",
    "\n",
    "def display_table(table, styles=tuple()):\n",
    "    display(HTML(table_html(table, styles)))\n",
    "\n",
    "def display_tensor(tensor):\n",
    "    if tensor.ndim == 1:\n",
    "        tensor = tensor.unsqueeze(0)\n",
    "    if torch.is_floating_point(tensor):\n",
    "        display_table([[f\"{i.item():.01f}\" for i in r] for r in tensor], colors_styles)\n",
    "    else: display_table([[str(i.item()) for i in r] for r in tensor], colors_styles)\n",
    "\n",
    "def display_storage(tensor):\n",
    "    storage = tensor.storage()\n",
    "    storage_colors = [[] for _ in storage]\n",
    "    for index in it.product(*[range(i) for i in tensor.shape]):\n",
    "        if not len(index): continue # 0-dim tensor\n",
    "        column, *_ = index\n",
    "        storage_index = sum([ i * s for i, s in zip(index, tensor.stride())])\n",
    "        storage_colors[storage_index].append(column)\n",
    "    #print(storage_colors)\n",
    "    styles = [[get_style_from_color_indices(c) for c in storage_colors]]\n",
    "    #print(styles)\n",
    "    if torch.is_floating_point(tensor):\n",
    "        return display_table([[f\"{i:.01f}\" for i in storage]], styles)\n",
    "    else: \n",
    "        return display_table([[str(i) for i in storage]], styles)\n",
    "\n",
    "    \n",
    "\n",
    "\n",
    "class DisplayColumns:\n",
    "\n",
    "    def __init__(self):\n",
    "        self.outputs = []\n",
    "\n",
    "    @contextlib.contextmanager\n",
    "    def column(self):\n",
    "        output = widgets.Output()\n",
    "        self.outputs.append(output)\n",
    "        with output:\n",
    "            yield\n",
    "\n",
    "    def display(self):\n",
    "        display(widgets.HBox(self.outputs))\n",
    "\n",
    "#display_storage(w)"
   ]
  },
  {
   "cell_type": "markdown",
   "id": "ebc98e5f-94d9-4e2b-94c2-4b56af2eaa77",
   "metadata": {},
   "source": [
    "# Tensor Structure"
   ]
  },
  {
   "cell_type": "code",
   "execution_count": 235,
   "id": "04913790-0b3e-4694-adc7-5d4ca4309d6e",
   "metadata": {},
   "outputs": [],
   "source": [
    "def print_characterestics(tensor):\n",
    "    print(\"stride: \", tensor.stride())\n",
    "    print(\"shape: \", tuple(tensor.shape))\n",
    "    print(\"contiguous? \", tensor.is_contiguous())\n",
    "\n",
    "def display_tensor_and_storage(tensor):\n",
    "    c = DisplayColumns()\n",
    "    if tensor.ndim == 1:\n",
    "        tensor = tensor[None, :]\n",
    "    print()\n",
    "    with c.column():\n",
    "        print(\"tensor:\")\n",
    "        display_tensor(tensor)\n",
    "    with c.column():\n",
    "        print(\"storage:\")\n",
    "        display_storage(tensor)\n",
    "    c.display()"
   ]
  },
  {
   "cell_type": "code",
   "execution_count": 238,
   "id": "5d688e56-db0c-428b-895d-19b52b90ba54",
   "metadata": {},
   "outputs": [
    {
     "name": "stdout",
     "output_type": "stream",
     "text": [
      "stride:  (1,)\n",
      "shape:  (12,)\n",
      "contiguous?  True\n",
      "\n"
     ]
    },
    {
     "data": {
      "application/vnd.jupyter.widget-view+json": {
       "model_id": "f49c8f7b3aba4cc7a44d734564a37b34",
       "version_major": 2,
       "version_minor": 0
      },
      "text/plain": [
       "HBox(children=(Output(), Output()))"
      ]
     },
     "metadata": {},
     "output_type": "display_data"
    }
   ],
   "source": [
    "t = torch.arange(12, dtype=torch.uint8)\n",
    "print_characterestics(t)\n",
    "display_tensor_and_storage(t)"
   ]
  },
  {
   "cell_type": "code",
   "execution_count": 240,
   "id": "be84c7f6-4354-4800-a4d9-f919662ad89a",
   "metadata": {},
   "outputs": [
    {
     "name": "stdout",
     "output_type": "stream",
     "text": [
      "stride:  (4, 1)\n",
      "shape:  (3, 4)\n",
      "contiguous?  True\n",
      "\n"
     ]
    },
    {
     "data": {
      "application/vnd.jupyter.widget-view+json": {
       "model_id": "2de17d15effe4757a41375be85dc0fe0",
       "version_major": 2,
       "version_minor": 0
      },
      "text/plain": [
       "HBox(children=(Output(), Output()))"
      ]
     },
     "metadata": {},
     "output_type": "display_data"
    }
   ],
   "source": [
    "u = t.reshape((3, 4))\n",
    "print_characterestics(u)\n",
    "display_tensor_and_storage(u)"
   ]
  },
  {
   "cell_type": "code",
   "execution_count": 242,
   "id": "5f046a70-d57b-43cc-a588-83a99273ed06",
   "metadata": {},
   "outputs": [
    {
     "name": "stdout",
     "output_type": "stream",
     "text": [
      "stride:  (1, 4)\n",
      "shape:  (4, 3)\n",
      "contiguous?  False\n",
      "\n"
     ]
    },
    {
     "data": {
      "application/vnd.jupyter.widget-view+json": {
       "model_id": "121a8f5cf7cc4db1add82c4443532c53",
       "version_major": 2,
       "version_minor": 0
      },
      "text/plain": [
       "HBox(children=(Output(), Output()))"
      ]
     },
     "metadata": {},
     "output_type": "display_data"
    }
   ],
   "source": [
    "u_transpose = u.T\n",
    "print_characterestics(u_transpose)\n",
    "display_tensor_and_storage(u_transpose)"
   ]
  },
  {
   "cell_type": "markdown",
   "id": "421d7adb-804e-490c-b2a2-b4bd25b8b417",
   "metadata": {},
   "source": [
    "## Slicing"
   ]
  },
  {
   "cell_type": "code",
   "execution_count": 243,
   "id": "87860598-0d6f-4f14-be16-1ece88736d65",
   "metadata": {},
   "outputs": [
    {
     "name": "stdout",
     "output_type": "stream",
     "text": [
      "stride:  (4, 1)\n",
      "shape:  (2, 4)\n",
      "contiguous?  True\n",
      "\n"
     ]
    },
    {
     "data": {
      "application/vnd.jupyter.widget-view+json": {
       "model_id": "c34b3f3df52a4bd98c6d781581c5469f",
       "version_major": 2,
       "version_minor": 0
      },
      "text/plain": [
       "HBox(children=(Output(), Output()))"
      ]
     },
     "metadata": {},
     "output_type": "display_data"
    }
   ],
   "source": [
    "u_sliced = u[:2, :]\n",
    "print_characterestics(u_sliced)\n",
    "display_tensor_and_storage(u_sliced)"
   ]
  },
  {
   "cell_type": "code",
   "execution_count": 244,
   "id": "4aabf50b-71d4-41f9-88a5-8cfa4496ed03",
   "metadata": {},
   "outputs": [
    {
     "name": "stdout",
     "output_type": "stream",
     "text": [
      "stride:  (4, 1)\n",
      "shape:  (3, 2)\n",
      "contiguous?  False\n",
      "\n"
     ]
    },
    {
     "data": {
      "application/vnd.jupyter.widget-view+json": {
       "model_id": "4fadb4178d034460b69de47273c6d72b",
       "version_major": 2,
       "version_minor": 0
      },
      "text/plain": [
       "HBox(children=(Output(), Output()))"
      ]
     },
     "metadata": {},
     "output_type": "display_data"
    }
   ],
   "source": [
    "u_sliced2 = u[:, :2]\n",
    "print_characterestics(u_sliced2)\n",
    "display_tensor_and_storage(u_sliced2)"
   ]
  },
  {
   "cell_type": "code",
   "execution_count": 256,
   "id": "0087f0a2-32f3-4243-821a-89af1b02f692",
   "metadata": {},
   "outputs": [
    {
     "name": "stdout",
     "output_type": "stream",
     "text": [
      "stride:  (3,)\n",
      "shape:  (4,)\n",
      "contiguous?  False\n",
      "\n"
     ]
    },
    {
     "data": {
      "application/vnd.jupyter.widget-view+json": {
       "model_id": "e55abb6121e54fd191c1133a57d08126",
       "version_major": 2,
       "version_minor": 0
      },
      "text/plain": [
       "HBox(children=(Output(), Output()))"
      ]
     },
     "metadata": {},
     "output_type": "display_data"
    }
   ],
   "source": [
    "t_skipping = t[::3]\n",
    "print_characterestics(t_skipping)\n",
    "display_tensor_and_storage(t_skipping)"
   ]
  },
  {
   "cell_type": "markdown",
   "id": "2d11c6f1-f5eb-47af-a5b1-3ec46921ac3c",
   "metadata": {},
   "source": [
    "## Broadcasting"
   ]
  },
  {
   "cell_type": "code",
   "execution_count": 249,
   "id": "01171e49-0a0b-4385-907c-903f1219bacd",
   "metadata": {},
   "outputs": [
    {
     "name": "stdout",
     "output_type": "stream",
     "text": [
      "stride:  (1, 1)\n",
      "shape:  (12, 1)\n",
      "contiguous?  True\n",
      "\n"
     ]
    },
    {
     "data": {
      "application/vnd.jupyter.widget-view+json": {
       "model_id": "ed61d5f40fbf4b74aa3b6e1fc06267d7",
       "version_major": 2,
       "version_minor": 0
      },
      "text/plain": [
       "HBox(children=(Output(), Output()))"
      ]
     },
     "metadata": {},
     "output_type": "display_data"
    }
   ],
   "source": [
    "# indexing with \"None\" means \"create 1 empty dimension\"\n",
    "v = t[:, None]\n",
    "print_characterestics(v)\n",
    "display_tensor_and_storage(v)"
   ]
  },
  {
   "cell_type": "code",
   "execution_count": 247,
   "id": "9513a660-4405-43c7-b60c-033fa1aa5c41",
   "metadata": {},
   "outputs": [
    {
     "name": "stdout",
     "output_type": "stream",
     "text": [
      "stride:  (1, 0)\n",
      "shape:  (12, 5)\n",
      "contiguous?  False\n",
      "\n"
     ]
    },
    {
     "data": {
      "application/vnd.jupyter.widget-view+json": {
       "model_id": "da96384b57a6460d854201a508b86bd0",
       "version_major": 2,
       "version_minor": 0
      },
      "text/plain": [
       "HBox(children=(Output(), Output()))"
      ]
     },
     "metadata": {},
     "output_type": "display_data"
    }
   ],
   "source": [
    "w = v.expand(12, 5)\n",
    "print_characterestics(w)\n",
    "display_tensor_and_storage(w)"
   ]
  },
  {
   "cell_type": "code",
   "execution_count": 248,
   "id": "b0e9f82e-01d8-48cd-ab6e-1ccbe4b3ba29",
   "metadata": {},
   "outputs": [
    {
     "name": "stdout",
     "output_type": "stream",
     "text": [
      "stride:  (0, 1)\n",
      "shape:  (5, 12)\n",
      "contiguous?  False\n",
      "\n"
     ]
    },
    {
     "data": {
      "application/vnd.jupyter.widget-view+json": {
       "model_id": "5e6622c42563471d9b501a5453b20fb6",
       "version_major": 2,
       "version_minor": 0
      },
      "text/plain": [
       "HBox(children=(Output(), Output()))"
      ]
     },
     "metadata": {},
     "output_type": "display_data"
    }
   ],
   "source": [
    "w_transpose = w.T\n",
    "print_characterestics(w_transpose)\n",
    "display_tensor_and_storage(w_transpose)"
   ]
  },
  {
   "cell_type": "code",
   "execution_count": 253,
   "id": "97b2ea8b-e9f6-424c-8ccb-494fcfd403d6",
   "metadata": {},
   "outputs": [
    {
     "name": "stdout",
     "output_type": "stream",
     "text": [
      "stride:  (1,)\n",
      "shape:  (8,)\n",
      "contiguous?  True\n",
      "\n"
     ]
    },
    {
     "data": {
      "application/vnd.jupyter.widget-view+json": {
       "model_id": "cffa8cebf5cb4e479e61dbcb7ee27f7e",
       "version_major": 2,
       "version_minor": 0
      },
      "text/plain": [
       "HBox(children=(Output(), Output()))"
      ]
     },
     "metadata": {},
     "output_type": "display_data"
    }
   ],
   "source": [
    "u_sliced_flat = u_sliced.flatten()\n",
    "print_characterestics(u_sliced_flat)\n",
    "display_tensor_and_storage(u_sliced_flat)"
   ]
  },
  {
   "cell_type": "code",
   "execution_count": 252,
   "id": "25246ad3-dea2-40d5-ae04-e5b2fe22709d",
   "metadata": {},
   "outputs": [
    {
     "name": "stdout",
     "output_type": "stream",
     "text": [
      "stride:  (1,)\n",
      "shape:  (60,)\n",
      "contiguous?  True\n",
      "\n"
     ]
    },
    {
     "data": {
      "application/vnd.jupyter.widget-view+json": {
       "model_id": "24500e59b93c4cadaa2c88d6c5274eca",
       "version_major": 2,
       "version_minor": 0
      },
      "text/plain": [
       "HBox(children=(Output(), Output()))"
      ]
     },
     "metadata": {},
     "output_type": "display_data"
    }
   ],
   "source": [
    "w_transpose_flat = w_transpose.flatten()\n",
    "print_characterestics(w_transpose_flat)\n",
    "display_tensor_and_storage(w_transpose_flat)"
   ]
  },
  {
   "cell_type": "markdown",
   "id": "28abf023-ad95-4c2d-8ac5-ba984e5d47df",
   "metadata": {},
   "source": [
    "## Masking and indexing\n",
    "\n",
    "Fancy indexing!\n",
    "\n"
   ]
  },
  {
   "cell_type": "markdown",
   "id": "a2d24d69-e0f1-4893-8040-1a832a5cf5ee",
   "metadata": {},
   "source": [
    "### Indexing with an array\n",
    "\n",
    "Remember `t_skipping`\n"
   ]
  },
  {
   "cell_type": "code",
   "execution_count": 265,
   "id": "ba7f7538-341a-4413-bb0f-57cf9b78db20",
   "metadata": {},
   "outputs": [
    {
     "name": "stdout",
     "output_type": "stream",
     "text": [
      "stride:  (3,)\n",
      "shape:  (4,)\n",
      "contiguous?  False\n",
      "\n"
     ]
    },
    {
     "data": {
      "application/vnd.jupyter.widget-view+json": {
       "model_id": "a097ff242c5c4880b1cbde65f2051a23",
       "version_major": 2,
       "version_minor": 0
      },
      "text/plain": [
       "HBox(children=(Output(), Output()))"
      ]
     },
     "metadata": {},
     "output_type": "display_data"
    }
   ],
   "source": [
    "print_characterestics(t_skipping)\n",
    "display_tensor_and_storage(t_skipping)"
   ]
  },
  {
   "cell_type": "markdown",
   "id": "97b7d6ff-1344-4707-9348-bf55d8c2a77a",
   "metadata": {},
   "source": [
    "\n",
    "Say I want elements 0, 2, and 3  of `t_skipping`\n",
    "\n",
    "I can just write"
   ]
  },
  {
   "cell_type": "code",
   "execution_count": 266,
   "id": "826943ab-2c87-40fe-a8d0-074d9cebf7c3",
   "metadata": {},
   "outputs": [
    {
     "name": "stdout",
     "output_type": "stream",
     "text": [
      "\n"
     ]
    },
    {
     "data": {
      "application/vnd.jupyter.widget-view+json": {
       "model_id": "5140f510c1ff4cdbbd4180b1dc76b8f7",
       "version_major": 2,
       "version_minor": 0
      },
      "text/plain": [
       "HBox(children=(Output(), Output()))"
      ]
     },
     "metadata": {},
     "output_type": "display_data"
    }
   ],
   "source": [
    "indexed = t_skipping[[0, 2, 3]]\n",
    "display_tensor_and_storage(indexed)"
   ]
  },
  {
   "cell_type": "markdown",
   "id": "7ac6ea87-61a2-44c0-bc39-64ee0d8c67d9",
   "metadata": {},
   "source": [
    "This operations makes a copy onto a *new storage* (it couldn't work by just changing the strides / shape) \n",
    "\n",
    "In a more realistic case, say I want to do *message passing*, I have a node vector"
   ]
  },
  {
   "cell_type": "code",
   "execution_count": 284,
   "id": "30b7f6a2-5e2f-44de-b375-a608349febc2",
   "metadata": {},
   "outputs": [
    {
     "name": "stdout",
     "output_type": "stream",
     "text": [
      "nodes: \n",
      "\n"
     ]
    },
    {
     "data": {
      "application/vnd.jupyter.widget-view+json": {
       "model_id": "d0870f35263c4c30a50addc4e90339d3",
       "version_major": 2,
       "version_minor": 0
      },
      "text/plain": [
       "HBox(children=(Output(), Output()))"
      ]
     },
     "metadata": {},
     "output_type": "display_data"
    },
    {
     "name": "stdout",
     "output_type": "stream",
     "text": [
      "\n",
      "edges: \n",
      "\n"
     ]
    },
    {
     "data": {
      "application/vnd.jupyter.widget-view+json": {
       "model_id": "9f3f9c212e3445c79a4d7dc83e5e9c81",
       "version_major": 2,
       "version_minor": 0
      },
      "text/plain": [
       "HBox(children=(Output(), Output()))"
      ]
     },
     "metadata": {},
     "output_type": "display_data"
    }
   ],
   "source": [
    "nodes = torch.randn(5, 7)\n",
    "edges = torch.randint(5, size=(4, 2))\n",
    "print(\"nodes: \")\n",
    "display_tensor_and_storage(nodes)\n",
    "print()\n",
    "print(\"edges: \")\n",
    "display_tensor_and_storage(edges)"
   ]
  },
  {
   "cell_type": "code",
   "execution_count": 290,
   "id": "157d7fe0-02b3-4af7-85a9-15073f8683ff",
   "metadata": {},
   "outputs": [
    {
     "name": "stdout",
     "output_type": "stream",
     "text": [
      "\n"
     ]
    },
    {
     "data": {
      "application/vnd.jupyter.widget-view+json": {
       "model_id": "f18e5d750dc941a2b28086d2a3f156bc",
       "version_major": 2,
       "version_minor": 0
      },
      "text/plain": [
       "HBox(children=(Output(), Output()))"
      ]
     },
     "metadata": {},
     "output_type": "display_data"
    }
   ],
   "source": [
    "tensor_edge_j = nodes[edges[:, 1]]\n",
    "display_tensor_and_storage(tensor_edge_j)"
   ]
  },
  {
   "cell_type": "markdown",
   "id": "a88850e6-24ff-4137-a012-10fbad885837",
   "metadata": {},
   "source": [
    "Now we need to send it through an MLP, and aggregate into `edge[0]`… which we will see how to do later"
   ]
  },
  {
   "cell_type": "markdown",
   "id": "6fb88698-5da6-4689-b4b4-55135da8ab38",
   "metadata": {},
   "source": [
    "### Masking (indexing with a boolean array)\n",
    "\n",
    "say Now I want my nodes labels to be bounded above by $0.5$. So I want to set everything bigger than $0.5$ to $0.5$\n",
    "\n",
    "I can easily make a boolean array indicating where nodes label values are above $0.5$"
   ]
  },
  {
   "cell_type": "code",
   "execution_count": 292,
   "id": "23d20961-1de6-4444-a5b5-ce4b67ddabdc",
   "metadata": {},
   "outputs": [
    {
     "name": "stdout",
     "output_type": "stream",
     "text": [
      "nodes: \n",
      "\n"
     ]
    },
    {
     "data": {
      "application/vnd.jupyter.widget-view+json": {
       "model_id": "7e4d24fac7124f278764f73558630565",
       "version_major": 2,
       "version_minor": 0
      },
      "text/plain": [
       "HBox(children=(Output(), Output()))"
      ]
     },
     "metadata": {},
     "output_type": "display_data"
    },
    {
     "name": "stdout",
     "output_type": "stream",
     "text": [
      "\n",
      "threshold mask: \n",
      "\n"
     ]
    },
    {
     "data": {
      "application/vnd.jupyter.widget-view+json": {
       "model_id": "b47b2c3041ad4f5690d3a65a018b3a14",
       "version_major": 2,
       "version_minor": 0
      },
      "text/plain": [
       "HBox(children=(Output(), Output()))"
      ]
     },
     "metadata": {},
     "output_type": "display_data"
    }
   ],
   "source": [
    "threshold = 0.5\n",
    "threshold_mask = nodes > threshold\n",
    "print(\"nodes: \")\n",
    "display_tensor_and_storage(nodes)\n",
    "print()\n",
    "print(\"threshold mask: \")\n",
    "display_tensor_and_storage(threshold_mask)"
   ]
  },
  {
   "cell_type": "markdown",
   "id": "acdda96e-b817-41df-8098-4f7d7a15c055",
   "metadata": {},
   "source": [
    "If I wan to get all the values that are above $0.5$ I can use this array to index !"
   ]
  },
  {
   "cell_type": "code",
   "execution_count": 293,
   "id": "f75405f5-bbd1-426b-a417-6aaca2b073f1",
   "metadata": {},
   "outputs": [
    {
     "name": "stdout",
     "output_type": "stream",
     "text": [
      "\n"
     ]
    },
    {
     "data": {
      "application/vnd.jupyter.widget-view+json": {
       "model_id": "5d1a03b9750446d5afeeb88b76647792",
       "version_major": 2,
       "version_minor": 0
      },
      "text/plain": [
       "HBox(children=(Output(), Output()))"
      ]
     },
     "metadata": {},
     "output_type": "display_data"
    }
   ],
   "source": [
    "above_threshold_values = nodes[threshold_mask]\n",
    "\n",
    "display_tensor_and_storage(above_threshold_values)"
   ]
  },
  {
   "cell_type": "markdown",
   "id": "21a2311b-6b2b-4045-87ce-3b45e37d250d",
   "metadata": {},
   "source": [
    "# Operations"
   ]
  },
  {
   "cell_type": "markdown",
   "id": "8f02ab90-3977-4df5-9476-b4098c8c7cba",
   "metadata": {},
   "source": [
    "## Broadcasting\n"
   ]
  },
  {
   "cell_type": "code",
   "execution_count": null,
   "id": "8b7c9172-5647-43e8-aba4-1055782b61f1",
   "metadata": {},
   "outputs": [],
   "source": [
    "three = torch.tensor(3)\n",
    "print_characterestics(three)\n",
    "display_storage(three)"
   ]
  },
  {
   "cell_type": "markdown",
   "id": "d8dbe4a4-b695-4fde-ac75-63f2a3a30aac",
   "metadata": {},
   "source": [
    "What happens if I call `torch.mul(torch.tensor(3), u)`?\n",
    "\n",
    "Broadcasting! First `three` gets padded with dimensions of leghth `1` to have the same number of dimensions as `u`"
   ]
  },
  {
   "cell_type": "code",
   "execution_count": null,
   "id": "c3001fa5-45ae-48f8-b985-5da9c8ef50d0",
   "metadata": {},
   "outputs": [],
   "source": [
    "three_padded = three[None, None]\n",
    "print_characterestics(three_padded)\n",
    "display_tensor_and_storage(three_padded)"
   ]
  },
  {
   "cell_type": "markdown",
   "id": "1b473435-aeda-4343-9c04-67244b5351d4",
   "metadata": {},
   "source": [
    "Then `three` gets \"broadcasted\" (replicated) across the dimensions equal to 1, so that it matches the dimensions of `u`"
   ]
  },
  {
   "cell_type": "code",
   "execution_count": null,
   "id": "6076c55d-82e8-470b-9166-843c8110a12b",
   "metadata": {},
   "outputs": [],
   "source": [
    "three_broadcasted = three_padded.expand(u.shape)\n",
    "print_characterestics(three_broadcasted)\n",
    "display_tensor_and_storage(three_broadcasted)"
   ]
  },
  {
   "cell_type": "markdown",
   "id": "59a4ad60-8e59-4cdd-895c-527b8248b390",
   "metadata": {},
   "source": [
    "Now that `three` and `u`\n",
    "\n",
    "**Note:** This would work even if `three` was not a 0-dim tensor. In fact this is what happens when you add a vector and a matrix for example. In the general case, the rules are as follow.\n",
    "\n",
    "*example: do an operation on a tensor of shape `[5, 12, 1, 5]` and one of shape `[3, 5]`*  \n",
    "\n",
    "1. If one of the two tensors has fewer dimensions, pad this one at the start with dimensions of size `1`. *we now have `[5, 12, 1, 5]` and `[1, 1, 3, 5]`*\n",
    "\n",
    "2. For all dimensions\n",
    "\n",
    "   - if they are the same, do nothing\n",
    "   - if they are different, but one is one, broadcast that one to the other\n",
    "   - otherwise, fail\n",
    "   \n",
    "   *We now have `[5, 12, 3, 5]` and `[5, 12, 3, 5]`*"
   ]
  },
  {
   "cell_type": "markdown",
   "id": "8cbaf3f5-1367-4ecb-9a62-05c1e2822c24",
   "metadata": {},
   "source": [
    "## Dispatch"
   ]
  },
  {
   "cell_type": "markdown",
   "id": "4ff42fb7-9942-4b2b-92e3-ef72a39f4d8d",
   "metadata": {},
   "source": [
    "Somewhere in the torch source code is a file called `native_functions.yaml` containing\n",
    "\n",
    "```yaml\n",
    "...\n",
    "\n",
    "- func: mul.Tensor(Tensor self, Tensor other) -> Tensor\n",
    "  device_check: NoCheck   # TensorIterator\n",
    "  structured_delegate: mul.out\n",
    "  variants: function, method\n",
    "  dispatch:\n",
    "    SparseCPU, SparseCUDA: mul_sparse\n",
    "    SparseCsrCPU, SparseCsrCUDA: mul_sparse_csr\n",
    "    MkldnnCPU: mkldnn_mul\n",
    "    ZeroTensor: mul_zerotensor\n",
    "    NestedTensorCPU, NestedTensorCUDA: NestedTensor_mul_Tensor\n",
    "  tags: [core, pointwise]\n",
    "\n",
    "...\n",
    "\n",
    "- func: mul.out(Tensor self, Tensor other, *, Tensor(a!) out) -> Tensor(a!)\n",
    "  device_check: NoCheck   # TensorIterator\n",
    "  structured: True\n",
    "  structured_inherits: TensorIteratorBase\n",
    "  dispatch:\n",
    "    CPU, CUDA: mul_out\n",
    "    MPS: mul_out_mps\n",
    "    SparseCPU: mul_out_sparse_cpu\n",
    "    SparseCUDA: mul_out_sparse_cuda\n",
    "    SparseCsrCPU, SparseCsrCUDA: mul_out_sparse_csr\n",
    "    MkldnnCPU: mkldnn_mul_out\n",
    "  tags: pointwise\n",
    "  # For C++ only, until we have conversion from C++ numbers to Tensor\n",
    "\n",
    "```\n",
    "\n",
    "which basically tells `torch` that when calling `torch.mul` on `CPU` or `CUDA`, it should call the `mul_out` function"
   ]
  },
  {
   "cell_type": "markdown",
   "id": "e69b3fb2-284d-45cc-9a77-7dccf742e72e",
   "metadata": {},
   "source": [
    "## GPU and asynchronicity"
   ]
  },
  {
   "cell_type": "markdown",
   "id": "641e9d5e-ee71-44f2-bcde-fda139b8c06e",
   "metadata": {},
   "source": [
    "### What is a CUDA Tensor?\n",
    "\n",
    "- A tensor whose **storage** lives in gpu memory\n",
    "- The stride / shape are still on CPU memory! no need to access "
   ]
  },
  {
   "cell_type": "code",
   "execution_count": 1,
   "id": "e49661b3-c480-4c49-b255-fe0b591782a8",
   "metadata": {},
   "outputs": [
    {
     "ename": "NameError",
     "evalue": "name 't' is not defined",
     "output_type": "error",
     "traceback": [
      "\u001b[0;31m---------------------------------------------------------------------------\u001b[0m",
      "\u001b[0;31mNameError\u001b[0m                                 Traceback (most recent call last)",
      "Cell \u001b[0;32mIn[1], line 1\u001b[0m\n\u001b[0;32m----> 1\u001b[0m t_gpu \u001b[38;5;241m=\u001b[39m \u001b[43mt\u001b[49m\u001b[38;5;241m.\u001b[39mto(\u001b[38;5;124m\"\u001b[39m\u001b[38;5;124mcuda:0\u001b[39m\u001b[38;5;124m\"\u001b[39m)\n",
      "\u001b[0;31mNameError\u001b[0m: name 't' is not defined"
     ]
    }
   ],
   "source": [
    "t_gpu = t.to(\"cuda:0\")"
   ]
  },
  {
   "cell_type": "code",
   "execution_count": null,
   "id": "35e3907f-769b-41ba-87ff-1e99e213ddbf",
   "metadata": {},
   "outputs": [],
   "source": []
  }
 ],
 "metadata": {
  "kernelspec": {
   "display_name": "Python 3 (ipykernel)",
   "language": "python",
   "name": "python3"
  },
  "language_info": {
   "codemirror_mode": {
    "name": "ipython",
    "version": 3
   },
   "file_extension": ".py",
   "mimetype": "text/x-python",
   "name": "python",
   "nbconvert_exporter": "python",
   "pygments_lexer": "ipython3",
   "version": "3.11.11"
  }
 },
 "nbformat": 4,
 "nbformat_minor": 5
}

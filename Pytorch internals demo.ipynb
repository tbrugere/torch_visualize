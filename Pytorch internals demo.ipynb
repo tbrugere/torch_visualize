{
 "cells": [
  {
   "cell_type": "code",
   "execution_count": 109,
   "id": "5ef41326-2600-46f6-a6fe-30b661037cc3",
   "metadata": {},
   "outputs": [],
   "source": [
    "import contextlib\n",
    "import itertools as it\n",
    "import functools as ft\n",
    "from io import StringIO\n",
    "\n",
    "\n",
    "import torch\n",
    "from torch import nn\n",
    "\n",
    "from IPython.display import display, HTML, Image\n",
    "from ipywidgets import widgets\n",
    "import torchviz\n",
    "from torchviz import make_dot\n",
    "\n",
    "from time import perf_counter\n"
   ]
  },
  {
   "cell_type": "code",
   "execution_count": 2,
   "id": "b2bd2c8f-a004-4f06-ada5-7826635c0f9d",
   "metadata": {},
   "outputs": [],
   "source": [
    "@contextlib.contextmanager\n",
    "def html_tag(t, *, dest, style=None):\n",
    "    style_str = \"\" if style is None else f'style=\"{style}\"'\n",
    "    dest.write(f\"<{t} {style_str}>\")\n",
    "    yield\n",
    "    dest.write(f\"</{t}>\")\n",
    "\n",
    "def table_html(table, styles=\"\", default_td_style=\"box-shadow: 4px 2px 5px grey;\"):\n",
    "    res = StringIO()\n",
    "    tag = ft.partial(html_tag, dest=res)\n",
    "    if isinstance(styles, str): styles= it.repeat(styles)\n",
    "    with tag(\"table\", style=\"table-layout: fixed; border-spacing: 3px; border-collapse: separate\"), tag(\"tbody\"):\n",
    "        for row, row_style in zip(table, styles):\n",
    "            if isinstance(row_style, str): row_style = it.repeat(row_style)\n",
    "            with tag(\"tr\"):\n",
    "                for value, style in zip(row, row_style,):\n",
    "                    with tag(\"td\", style=f\"{default_td_style} {style}\"):\n",
    "                        res.write(value)\n",
    "\n",
    "    return res.getvalue()\n",
    "\n",
    "n_colors = 10\n",
    "colors = [f\"hsl({hue}, 70%, 80%)\" for hue in range(0, 360, 360//n_colors)]\n",
    "colors_styles = [f\"background-color: {color}\" for color in colors]\n",
    "\n",
    "def get_style_from_color_indices(color_list):\n",
    "    match color_list:\n",
    "        case []:\n",
    "            return \"background-color: white\"\n",
    "        case [c]:\n",
    "            c_= colors[c  % len(colors)]\n",
    "            return f\"background-color: {c_}\"\n",
    "        case [*cs]:\n",
    "            n_colors = len(color_list)\n",
    "            percentages = [f\"{k/n_colors:.0%}\" for k in range(n_colors +1)]\n",
    "            s = StringIO()\n",
    "            s.write(\"background: linear-gradient( to bottom\")\n",
    "            for c, p0, p1 in zip(cs, percentages[:-1], percentages[1:]):\n",
    "                c_ = colors[c  % len(colors)]\n",
    "                s.write(f\", {c_} {p0} {p1}\")\n",
    "            s.write(\")\")\n",
    "            return s.getvalue()\n",
    "\n",
    "\n",
    "def display_table(table, styles=tuple()):\n",
    "    display(HTML(table_html(table, styles)))\n",
    "\n",
    "def display_tensor(tensor):\n",
    "    if tensor.ndim == 1:\n",
    "        tensor = tensor.unsqueeze(0)\n",
    "    if torch.is_floating_point(tensor):\n",
    "        display_table([[f\"{i.item():.01f}\" for i in r] for r in tensor], colors_styles)\n",
    "    else: display_table([[str(i.item()) for i in r] for r in tensor], colors_styles)\n",
    "\n",
    "def display_storage(tensor):\n",
    "    storage = tensor.storage()\n",
    "    storage_colors = [[] for _ in storage]\n",
    "    for index in it.product(*[range(i) for i in tensor.shape]):\n",
    "        if not len(index): continue # 0-dim tensor\n",
    "        column, *_ = index\n",
    "        storage_index = sum([ i * s for i, s in zip(index, tensor.stride())])\n",
    "        storage_colors[storage_index].append(column)\n",
    "    #print(storage_colors)\n",
    "    styles = [[get_style_from_color_indices(c) for c in storage_colors]]\n",
    "    #print(styles)\n",
    "    if torch.is_floating_point(tensor):\n",
    "        return display_table([[f\"{i:.01f}\" for i in storage]], styles)\n",
    "    else: \n",
    "        return display_table([[str(i) for i in storage]], styles)\n",
    "\n",
    "    \n",
    "\n",
    "\n",
    "class DisplayColumns:\n",
    "\n",
    "    def __init__(self):\n",
    "        self.outputs = []\n",
    "\n",
    "    @contextlib.contextmanager\n",
    "    def column(self):\n",
    "        output = widgets.Output()\n",
    "        self.outputs.append(output)\n",
    "        with output:\n",
    "            yield\n",
    "\n",
    "    def display(self):\n",
    "        display(widgets.HBox(self.outputs))\n",
    "\n",
    "#display_storage(w)"
   ]
  },
  {
   "cell_type": "markdown",
   "id": "ebc98e5f-94d9-4e2b-94c2-4b56af2eaa77",
   "metadata": {},
   "source": [
    "# Tensor Structure"
   ]
  },
  {
   "cell_type": "code",
   "execution_count": 3,
   "id": "04913790-0b3e-4694-adc7-5d4ca4309d6e",
   "metadata": {},
   "outputs": [],
   "source": [
    "def print_characterestics(tensor):\n",
    "    print(\"stride: \", tensor.stride())\n",
    "    print(\"shape: \", tuple(tensor.shape))\n",
    "    print(\"contiguous? \", tensor.is_contiguous())\n",
    "\n",
    "def display_tensor_and_storage(tensor):\n",
    "    c = DisplayColumns()\n",
    "    if tensor.ndim == 1:\n",
    "        tensor = tensor[None, :]\n",
    "    print()\n",
    "    with c.column():\n",
    "        print(\"tensor:\")\n",
    "        display_tensor(tensor)\n",
    "    with c.column():\n",
    "        print(\"storage:\")\n",
    "        display_storage(tensor)\n",
    "    c.display()"
   ]
  },
  {
   "cell_type": "code",
   "execution_count": 89,
   "id": "5d688e56-db0c-428b-895d-19b52b90ba54",
   "metadata": {},
   "outputs": [
    {
     "name": "stdout",
     "output_type": "stream",
     "text": [
      "stride:  (1,)\n",
      "shape:  (12,)\n",
      "contiguous?  True\n",
      "\n"
     ]
    },
    {
     "data": {
      "application/vnd.jupyter.widget-view+json": {
       "model_id": "a20afe922111444b8940432729c83423",
       "version_major": 2,
       "version_minor": 0
      },
      "text/plain": [
       "HBox(children=(Output(), Output()))"
      ]
     },
     "metadata": {},
     "output_type": "display_data"
    }
   ],
   "source": [
    "t = torch.arange(12, dtype=torch.uint8)\n",
    "print_characterestics(t)\n",
    "display_tensor_and_storage(t)"
   ]
  },
  {
   "cell_type": "code",
   "execution_count": 6,
   "id": "be84c7f6-4354-4800-a4d9-f919662ad89a",
   "metadata": {},
   "outputs": [
    {
     "name": "stdout",
     "output_type": "stream",
     "text": [
      "stride:  (4, 1)\n",
      "shape:  (3, 4)\n",
      "contiguous?  True\n",
      "\n"
     ]
    },
    {
     "data": {
      "application/vnd.jupyter.widget-view+json": {
       "model_id": "13dc92ade3bd4488afd652d4be9b7dcc",
       "version_major": 2,
       "version_minor": 0
      },
      "text/plain": [
       "HBox(children=(Output(), Output()))"
      ]
     },
     "metadata": {},
     "output_type": "display_data"
    }
   ],
   "source": [
    "u = t.reshape((3, 4))\n",
    "print_characterestics(u)\n",
    "display_tensor_and_storage(u)"
   ]
  },
  {
   "cell_type": "code",
   "execution_count": 7,
   "id": "5f046a70-d57b-43cc-a588-83a99273ed06",
   "metadata": {},
   "outputs": [
    {
     "name": "stdout",
     "output_type": "stream",
     "text": [
      "stride:  (1, 4)\n",
      "shape:  (4, 3)\n",
      "contiguous?  False\n",
      "\n"
     ]
    },
    {
     "data": {
      "application/vnd.jupyter.widget-view+json": {
       "model_id": "daf9cdb017804f8aa82bcb5100c29f08",
       "version_major": 2,
       "version_minor": 0
      },
      "text/plain": [
       "HBox(children=(Output(), Output()))"
      ]
     },
     "metadata": {},
     "output_type": "display_data"
    }
   ],
   "source": [
    "u_transpose = u.T\n",
    "print_characterestics(u_transpose)\n",
    "display_tensor_and_storage(u_transpose)"
   ]
  },
  {
   "cell_type": "markdown",
   "id": "421d7adb-804e-490c-b2a2-b4bd25b8b417",
   "metadata": {},
   "source": [
    "## Slicing"
   ]
  },
  {
   "cell_type": "code",
   "execution_count": 8,
   "id": "87860598-0d6f-4f14-be16-1ece88736d65",
   "metadata": {},
   "outputs": [
    {
     "name": "stdout",
     "output_type": "stream",
     "text": [
      "stride:  (4, 1)\n",
      "shape:  (2, 4)\n",
      "contiguous?  True\n",
      "\n"
     ]
    },
    {
     "data": {
      "application/vnd.jupyter.widget-view+json": {
       "model_id": "1df4ba26bb5146c2ab3a4b39bd609182",
       "version_major": 2,
       "version_minor": 0
      },
      "text/plain": [
       "HBox(children=(Output(), Output()))"
      ]
     },
     "metadata": {},
     "output_type": "display_data"
    }
   ],
   "source": [
    "u_sliced = u[:2, :]\n",
    "print_characterestics(u_sliced)\n",
    "display_tensor_and_storage(u_sliced)"
   ]
  },
  {
   "cell_type": "code",
   "execution_count": 9,
   "id": "4aabf50b-71d4-41f9-88a5-8cfa4496ed03",
   "metadata": {},
   "outputs": [
    {
     "name": "stdout",
     "output_type": "stream",
     "text": [
      "stride:  (4, 1)\n",
      "shape:  (3, 2)\n",
      "contiguous?  False\n",
      "\n"
     ]
    },
    {
     "data": {
      "application/vnd.jupyter.widget-view+json": {
       "model_id": "c9dc3213f7174dbd9d75be65cbf91d92",
       "version_major": 2,
       "version_minor": 0
      },
      "text/plain": [
       "HBox(children=(Output(), Output()))"
      ]
     },
     "metadata": {},
     "output_type": "display_data"
    }
   ],
   "source": [
    "u_sliced2 = u[:, :2]\n",
    "print_characterestics(u_sliced2)\n",
    "display_tensor_and_storage(u_sliced2)"
   ]
  },
  {
   "cell_type": "code",
   "execution_count": 10,
   "id": "0087f0a2-32f3-4243-821a-89af1b02f692",
   "metadata": {},
   "outputs": [
    {
     "name": "stdout",
     "output_type": "stream",
     "text": [
      "stride:  (3,)\n",
      "shape:  (4,)\n",
      "contiguous?  False\n",
      "\n"
     ]
    },
    {
     "data": {
      "application/vnd.jupyter.widget-view+json": {
       "model_id": "3edc0986cddd4437b45eab3b2f61484d",
       "version_major": 2,
       "version_minor": 0
      },
      "text/plain": [
       "HBox(children=(Output(), Output()))"
      ]
     },
     "metadata": {},
     "output_type": "display_data"
    }
   ],
   "source": [
    "t_skipping = t[::3]\n",
    "print_characterestics(t_skipping)\n",
    "display_tensor_and_storage(t_skipping)"
   ]
  },
  {
   "cell_type": "markdown",
   "id": "2d11c6f1-f5eb-47af-a5b1-3ec46921ac3c",
   "metadata": {},
   "source": [
    "## Broadcasting"
   ]
  },
  {
   "cell_type": "code",
   "execution_count": 11,
   "id": "01171e49-0a0b-4385-907c-903f1219bacd",
   "metadata": {},
   "outputs": [
    {
     "name": "stdout",
     "output_type": "stream",
     "text": [
      "stride:  (1, 1)\n",
      "shape:  (12, 1)\n",
      "contiguous?  True\n",
      "\n"
     ]
    },
    {
     "data": {
      "application/vnd.jupyter.widget-view+json": {
       "model_id": "eeb11cd38e1c40f296147d102c471ce6",
       "version_major": 2,
       "version_minor": 0
      },
      "text/plain": [
       "HBox(children=(Output(), Output()))"
      ]
     },
     "metadata": {},
     "output_type": "display_data"
    }
   ],
   "source": [
    "# indexing with \"None\" means \"create 1 empty dimension\"\n",
    "v = t[:, None]\n",
    "print_characterestics(v)\n",
    "display_tensor_and_storage(v)"
   ]
  },
  {
   "cell_type": "code",
   "execution_count": 12,
   "id": "9513a660-4405-43c7-b60c-033fa1aa5c41",
   "metadata": {},
   "outputs": [
    {
     "name": "stdout",
     "output_type": "stream",
     "text": [
      "stride:  (1, 0)\n",
      "shape:  (12, 5)\n",
      "contiguous?  False\n",
      "\n"
     ]
    },
    {
     "data": {
      "application/vnd.jupyter.widget-view+json": {
       "model_id": "2394c291cb294fa5af26473aefb3dbfe",
       "version_major": 2,
       "version_minor": 0
      },
      "text/plain": [
       "HBox(children=(Output(), Output()))"
      ]
     },
     "metadata": {},
     "output_type": "display_data"
    }
   ],
   "source": [
    "w = v.expand(12, 5)\n",
    "print_characterestics(w)\n",
    "display_tensor_and_storage(w)"
   ]
  },
  {
   "cell_type": "code",
   "execution_count": 13,
   "id": "b0e9f82e-01d8-48cd-ab6e-1ccbe4b3ba29",
   "metadata": {},
   "outputs": [
    {
     "name": "stdout",
     "output_type": "stream",
     "text": [
      "stride:  (0, 1)\n",
      "shape:  (5, 12)\n",
      "contiguous?  False\n",
      "\n"
     ]
    },
    {
     "data": {
      "application/vnd.jupyter.widget-view+json": {
       "model_id": "c24d967f1c844c7a964d19a3a81ffa3d",
       "version_major": 2,
       "version_minor": 0
      },
      "text/plain": [
       "HBox(children=(Output(), Output()))"
      ]
     },
     "metadata": {},
     "output_type": "display_data"
    }
   ],
   "source": [
    "w_transpose = w.T\n",
    "print_characterestics(w_transpose)\n",
    "display_tensor_and_storage(w_transpose)"
   ]
  },
  {
   "cell_type": "code",
   "execution_count": 14,
   "id": "97b2ea8b-e9f6-424c-8ccb-494fcfd403d6",
   "metadata": {},
   "outputs": [
    {
     "name": "stdout",
     "output_type": "stream",
     "text": [
      "stride:  (1,)\n",
      "shape:  (8,)\n",
      "contiguous?  True\n",
      "\n"
     ]
    },
    {
     "data": {
      "application/vnd.jupyter.widget-view+json": {
       "model_id": "aa2b2f7cc1444fa9a34aeb4a61be9995",
       "version_major": 2,
       "version_minor": 0
      },
      "text/plain": [
       "HBox(children=(Output(), Output()))"
      ]
     },
     "metadata": {},
     "output_type": "display_data"
    }
   ],
   "source": [
    "u_sliced_flat = u_sliced.flatten()\n",
    "print_characterestics(u_sliced_flat)\n",
    "display_tensor_and_storage(u_sliced_flat)"
   ]
  },
  {
   "cell_type": "code",
   "execution_count": 15,
   "id": "25246ad3-dea2-40d5-ae04-e5b2fe22709d",
   "metadata": {},
   "outputs": [
    {
     "name": "stdout",
     "output_type": "stream",
     "text": [
      "stride:  (1,)\n",
      "shape:  (60,)\n",
      "contiguous?  True\n",
      "\n"
     ]
    },
    {
     "data": {
      "application/vnd.jupyter.widget-view+json": {
       "model_id": "5bbe2afeb95a477f98b6df4f680f39d8",
       "version_major": 2,
       "version_minor": 0
      },
      "text/plain": [
       "HBox(children=(Output(), Output()))"
      ]
     },
     "metadata": {},
     "output_type": "display_data"
    }
   ],
   "source": [
    "w_transpose_flat = w_transpose.flatten()\n",
    "print_characterestics(w_transpose_flat)\n",
    "display_tensor_and_storage(w_transpose_flat)"
   ]
  },
  {
   "cell_type": "markdown",
   "id": "28abf023-ad95-4c2d-8ac5-ba984e5d47df",
   "metadata": {},
   "source": [
    "## Masking and indexing\n",
    "\n",
    "Fancy indexing!\n",
    "\n"
   ]
  },
  {
   "cell_type": "markdown",
   "id": "a2d24d69-e0f1-4893-8040-1a832a5cf5ee",
   "metadata": {},
   "source": [
    "### Indexing with an array\n",
    "\n",
    "Remember `t_skipping`\n"
   ]
  },
  {
   "cell_type": "code",
   "execution_count": 16,
   "id": "ba7f7538-341a-4413-bb0f-57cf9b78db20",
   "metadata": {},
   "outputs": [
    {
     "name": "stdout",
     "output_type": "stream",
     "text": [
      "stride:  (3,)\n",
      "shape:  (4,)\n",
      "contiguous?  False\n",
      "\n"
     ]
    },
    {
     "data": {
      "application/vnd.jupyter.widget-view+json": {
       "model_id": "0a59eba9abef4af49a0ad25cef35d770",
       "version_major": 2,
       "version_minor": 0
      },
      "text/plain": [
       "HBox(children=(Output(), Output()))"
      ]
     },
     "metadata": {},
     "output_type": "display_data"
    }
   ],
   "source": [
    "print_characterestics(t_skipping)\n",
    "display_tensor_and_storage(t_skipping)"
   ]
  },
  {
   "cell_type": "markdown",
   "id": "97b7d6ff-1344-4707-9348-bf55d8c2a77a",
   "metadata": {},
   "source": [
    "\n",
    "Say I want elements 0, 2, and 3  of `t_skipping`\n",
    "\n",
    "I can just write"
   ]
  },
  {
   "cell_type": "code",
   "execution_count": 17,
   "id": "826943ab-2c87-40fe-a8d0-074d9cebf7c3",
   "metadata": {},
   "outputs": [
    {
     "name": "stdout",
     "output_type": "stream",
     "text": [
      "\n"
     ]
    },
    {
     "data": {
      "application/vnd.jupyter.widget-view+json": {
       "model_id": "6784d602e7b94c21bac80852f46162e2",
       "version_major": 2,
       "version_minor": 0
      },
      "text/plain": [
       "HBox(children=(Output(), Output()))"
      ]
     },
     "metadata": {},
     "output_type": "display_data"
    }
   ],
   "source": [
    "indexed = t_skipping[[0, 2, 3]]\n",
    "display_tensor_and_storage(indexed)"
   ]
  },
  {
   "cell_type": "markdown",
   "id": "7ac6ea87-61a2-44c0-bc39-64ee0d8c67d9",
   "metadata": {},
   "source": [
    "This operations makes a copy onto a *new storage* (it couldn't work by just changing the strides / shape) \n",
    "\n",
    "In a more realistic case, say I want to do *message passing*, I have a node vector"
   ]
  },
  {
   "cell_type": "code",
   "execution_count": 18,
   "id": "30b7f6a2-5e2f-44de-b375-a608349febc2",
   "metadata": {},
   "outputs": [
    {
     "name": "stdout",
     "output_type": "stream",
     "text": [
      "nodes: \n",
      "\n"
     ]
    },
    {
     "data": {
      "application/vnd.jupyter.widget-view+json": {
       "model_id": "3435a79d58074722868fd271b747a190",
       "version_major": 2,
       "version_minor": 0
      },
      "text/plain": [
       "HBox(children=(Output(), Output()))"
      ]
     },
     "metadata": {},
     "output_type": "display_data"
    },
    {
     "name": "stdout",
     "output_type": "stream",
     "text": [
      "\n",
      "edges: \n",
      "\n"
     ]
    },
    {
     "data": {
      "application/vnd.jupyter.widget-view+json": {
       "model_id": "e94ef7b2434541c49cd988802b6c91d6",
       "version_major": 2,
       "version_minor": 0
      },
      "text/plain": [
       "HBox(children=(Output(), Output()))"
      ]
     },
     "metadata": {},
     "output_type": "display_data"
    }
   ],
   "source": [
    "nodes = torch.randn(5, 7)\n",
    "edges = torch.randint(5, size=(4, 2))\n",
    "print(\"nodes: \")\n",
    "display_tensor_and_storage(nodes)\n",
    "print()\n",
    "print(\"edges: \")\n",
    "display_tensor_and_storage(edges)"
   ]
  },
  {
   "cell_type": "code",
   "execution_count": 19,
   "id": "157d7fe0-02b3-4af7-85a9-15073f8683ff",
   "metadata": {},
   "outputs": [
    {
     "name": "stdout",
     "output_type": "stream",
     "text": [
      "\n"
     ]
    },
    {
     "data": {
      "application/vnd.jupyter.widget-view+json": {
       "model_id": "f2c05425af9d467f9a99565fc11fc72e",
       "version_major": 2,
       "version_minor": 0
      },
      "text/plain": [
       "HBox(children=(Output(), Output()))"
      ]
     },
     "metadata": {},
     "output_type": "display_data"
    }
   ],
   "source": [
    "tensor_edge_j = nodes[edges[:, 1]]\n",
    "display_tensor_and_storage(tensor_edge_j)"
   ]
  },
  {
   "cell_type": "markdown",
   "id": "a88850e6-24ff-4137-a012-10fbad885837",
   "metadata": {},
   "source": [
    "Now we need to send it through an MLP, and aggregate into `edge[0]`… which we will see how to do later"
   ]
  },
  {
   "cell_type": "markdown",
   "id": "6fb88698-5da6-4689-b4b4-55135da8ab38",
   "metadata": {},
   "source": [
    "### Masking (indexing with a boolean array)\n",
    "\n",
    "say Now I want my nodes labels to be bounded above by $0.5$. So I want to set everything bigger than $0.5$ to $0.5$\n",
    "\n",
    "I can easily make a boolean array indicating where nodes label values are above $0.5$"
   ]
  },
  {
   "cell_type": "code",
   "execution_count": 20,
   "id": "23d20961-1de6-4444-a5b5-ce4b67ddabdc",
   "metadata": {},
   "outputs": [
    {
     "name": "stdout",
     "output_type": "stream",
     "text": [
      "nodes: \n",
      "\n"
     ]
    },
    {
     "data": {
      "application/vnd.jupyter.widget-view+json": {
       "model_id": "54d52c953dff4901ba9d1ba58ddd5ee0",
       "version_major": 2,
       "version_minor": 0
      },
      "text/plain": [
       "HBox(children=(Output(), Output()))"
      ]
     },
     "metadata": {},
     "output_type": "display_data"
    },
    {
     "name": "stdout",
     "output_type": "stream",
     "text": [
      "\n",
      "threshold mask: \n",
      "\n"
     ]
    },
    {
     "data": {
      "application/vnd.jupyter.widget-view+json": {
       "model_id": "9e0984feb7714503a74ffa0b4459b212",
       "version_major": 2,
       "version_minor": 0
      },
      "text/plain": [
       "HBox(children=(Output(), Output()))"
      ]
     },
     "metadata": {},
     "output_type": "display_data"
    }
   ],
   "source": [
    "threshold = 0.5\n",
    "threshold_mask = nodes > threshold\n",
    "print(\"nodes: \")\n",
    "display_tensor_and_storage(nodes)\n",
    "print()\n",
    "print(\"threshold mask: \")\n",
    "display_tensor_and_storage(threshold_mask)"
   ]
  },
  {
   "cell_type": "markdown",
   "id": "acdda96e-b817-41df-8098-4f7d7a15c055",
   "metadata": {},
   "source": [
    "If I wan to get all the values that are above $0.5$ I can use this array to index !"
   ]
  },
  {
   "cell_type": "code",
   "execution_count": 21,
   "id": "f75405f5-bbd1-426b-a417-6aaca2b073f1",
   "metadata": {},
   "outputs": [
    {
     "name": "stdout",
     "output_type": "stream",
     "text": [
      "\n"
     ]
    },
    {
     "data": {
      "application/vnd.jupyter.widget-view+json": {
       "model_id": "67b5348c47944cafaa324aad4dac401f",
       "version_major": 2,
       "version_minor": 0
      },
      "text/plain": [
       "HBox(children=(Output(), Output()))"
      ]
     },
     "metadata": {},
     "output_type": "display_data"
    }
   ],
   "source": [
    "above_threshold_values = nodes[threshold_mask]\n",
    "\n",
    "display_tensor_and_storage(above_threshold_values)"
   ]
  },
  {
   "cell_type": "markdown",
   "id": "21a2311b-6b2b-4045-87ce-3b45e37d250d",
   "metadata": {},
   "source": [
    "# Operations"
   ]
  },
  {
   "cell_type": "markdown",
   "id": "8f02ab90-3977-4df5-9476-b4098c8c7cba",
   "metadata": {},
   "source": [
    "## Broadcasting\n"
   ]
  },
  {
   "cell_type": "code",
   "execution_count": 22,
   "id": "8b7c9172-5647-43e8-aba4-1055782b61f1",
   "metadata": {},
   "outputs": [
    {
     "name": "stdout",
     "output_type": "stream",
     "text": [
      "stride:  ()\n",
      "shape:  ()\n",
      "contiguous?  True\n"
     ]
    },
    {
     "data": {
      "text/html": [
       "<table style=\"table-layout: fixed; border-spacing: 3px; border-collapse: separate\"><tbody ><tr ><td style=\"box-shadow: 4px 2px 5px grey; background-color: white\">3</td></tr></tbody></table>"
      ],
      "text/plain": [
       "<IPython.core.display.HTML object>"
      ]
     },
     "metadata": {},
     "output_type": "display_data"
    }
   ],
   "source": [
    "three = torch.tensor(3)\n",
    "print_characterestics(three)\n",
    "display_storage(three)"
   ]
  },
  {
   "cell_type": "markdown",
   "id": "d8dbe4a4-b695-4fde-ac75-63f2a3a30aac",
   "metadata": {},
   "source": [
    "What happens if I call `torch.mul(torch.tensor(3), u)`?\n",
    "\n",
    "Broadcasting! First `three` gets padded with dimensions of leghth `1` to have the same number of dimensions as `u`"
   ]
  },
  {
   "cell_type": "code",
   "execution_count": 23,
   "id": "c3001fa5-45ae-48f8-b985-5da9c8ef50d0",
   "metadata": {},
   "outputs": [
    {
     "name": "stdout",
     "output_type": "stream",
     "text": [
      "stride:  (1, 1)\n",
      "shape:  (1, 1)\n",
      "contiguous?  True\n",
      "\n"
     ]
    },
    {
     "data": {
      "application/vnd.jupyter.widget-view+json": {
       "model_id": "e78872ad55974777a06a5fbf68c4eac9",
       "version_major": 2,
       "version_minor": 0
      },
      "text/plain": [
       "HBox(children=(Output(), Output()))"
      ]
     },
     "metadata": {},
     "output_type": "display_data"
    }
   ],
   "source": [
    "three_padded = three[None, None]\n",
    "print_characterestics(three_padded)\n",
    "display_tensor_and_storage(three_padded)"
   ]
  },
  {
   "cell_type": "markdown",
   "id": "1b473435-aeda-4343-9c04-67244b5351d4",
   "metadata": {},
   "source": [
    "Then `three` gets \"broadcasted\" (replicated) across the dimensions equal to 1, so that it matches the dimensions of `u`"
   ]
  },
  {
   "cell_type": "code",
   "execution_count": 24,
   "id": "6076c55d-82e8-470b-9166-843c8110a12b",
   "metadata": {},
   "outputs": [
    {
     "name": "stdout",
     "output_type": "stream",
     "text": [
      "stride:  (0, 0)\n",
      "shape:  (3, 4)\n",
      "contiguous?  False\n",
      "\n"
     ]
    },
    {
     "data": {
      "application/vnd.jupyter.widget-view+json": {
       "model_id": "6af814d416ee44f49af695816f4b4b3e",
       "version_major": 2,
       "version_minor": 0
      },
      "text/plain": [
       "HBox(children=(Output(), Output()))"
      ]
     },
     "metadata": {},
     "output_type": "display_data"
    }
   ],
   "source": [
    "three_broadcasted = three_padded.expand(u.shape)\n",
    "print_characterestics(three_broadcasted)\n",
    "display_tensor_and_storage(three_broadcasted)"
   ]
  },
  {
   "cell_type": "markdown",
   "id": "59a4ad60-8e59-4cdd-895c-527b8248b390",
   "metadata": {},
   "source": [
    "Now that `three` and `u`\n",
    "\n",
    "**Note:** This would work even if `three` was not a 0-dim tensor. In fact this is what happens when you add a vector and a matrix for example. In the general case, the rules are as follow.\n",
    "\n",
    "*example: do an operation on a tensor of shape `[5, 12, 1, 5]` and one of shape `[3, 5]`*  \n",
    "\n",
    "1. If one of the two tensors has fewer dimensions, pad this one at the start with dimensions of size `1`. *we now have `[5, 12, 1, 5]` and `[1, 1, 3, 5]`*\n",
    "\n",
    "2. For all dimensions\n",
    "\n",
    "   - if they are the same, do nothing\n",
    "   - if they are different, but one is one, broadcast that one to the other\n",
    "   - otherwise, fail\n",
    "   \n",
    "   *We now have `[5, 12, 3, 5]` and `[5, 12, 3, 5]`*"
   ]
  },
  {
   "cell_type": "markdown",
   "id": "8cbaf3f5-1367-4ecb-9a62-05c1e2822c24",
   "metadata": {},
   "source": [
    "## Dispatch"
   ]
  },
  {
   "cell_type": "markdown",
   "id": "4ff42fb7-9942-4b2b-92e3-ef72a39f4d8d",
   "metadata": {},
   "source": [
    "Somewhere in the torch source code is a file called `native_functions.yaml` containing\n",
    "\n",
    "```yaml\n",
    "...\n",
    "\n",
    "- func: mul.Tensor(Tensor self, Tensor other) -> Tensor\n",
    "  device_check: NoCheck   # TensorIterator\n",
    "  structured_delegate: mul.out\n",
    "  variants: function, method\n",
    "  dispatch:\n",
    "    SparseCPU, SparseCUDA: mul_sparse\n",
    "    SparseCsrCPU, SparseCsrCUDA: mul_sparse_csr\n",
    "    MkldnnCPU: mkldnn_mul\n",
    "    ZeroTensor: mul_zerotensor\n",
    "    NestedTensorCPU, NestedTensorCUDA: NestedTensor_mul_Tensor\n",
    "  tags: [core, pointwise]\n",
    "\n",
    "...\n",
    "\n",
    "- func: mul.out(Tensor self, Tensor other, *, Tensor(a!) out) -> Tensor(a!)\n",
    "  device_check: NoCheck   # TensorIterator\n",
    "  structured: True\n",
    "  structured_inherits: TensorIteratorBase\n",
    "  dispatch:\n",
    "    CPU, CUDA: mul_out\n",
    "    MPS: mul_out_mps\n",
    "    SparseCPU: mul_out_sparse_cpu\n",
    "    SparseCUDA: mul_out_sparse_cuda\n",
    "    SparseCsrCPU, SparseCsrCUDA: mul_out_sparse_csr\n",
    "    MkldnnCPU: mkldnn_mul_out\n",
    "  tags: pointwise\n",
    "  # For C++ only, until we have conversion from C++ numbers to Tensor\n",
    "\n",
    "```\n",
    "\n",
    "which basically tells `torch` that when calling `torch.mul` on `CPU` or `CUDA`, it should call the `mul_out` function"
   ]
  },
  {
   "cell_type": "markdown",
   "id": "23106497-5d47-42b0-a6e4-7a6f4246a48e",
   "metadata": {},
   "source": [
    "*Note:* why is it the same function for CPU and CUDA? It actually isn't, it's two function that have the same name, but live in two different shared object libraries"
   ]
  },
  {
   "cell_type": "markdown",
   "id": "e69b3fb2-284d-45cc-9a77-7dccf742e72e",
   "metadata": {},
   "source": [
    "## GPU and asynchronicity"
   ]
  },
  {
   "cell_type": "markdown",
   "id": "641e9d5e-ee71-44f2-bcde-fda139b8c06e",
   "metadata": {},
   "source": [
    "### What is a CUDA Tensor?\n",
    "\n",
    "- A tensor whose **storage** lives in gpu memory\n",
    "- The stride / shape are still on CPU memory! no need to access\n",
    "\n",
    "*Note:* this is not `pytorch` specific, the CUDA programming API handles these kind of things. Relevant is section 3.5.2 of the CUDA programming guide"
   ]
  },
  {
   "cell_type": "code",
   "execution_count": 28,
   "id": "e49661b3-c480-4c49-b255-fe0b591782a8",
   "metadata": {},
   "outputs": [
    {
     "data": {
      "text/plain": [
       "device(type='cuda', index=0)"
      ]
     },
     "execution_count": 28,
     "metadata": {},
     "output_type": "execute_result"
    }
   ],
   "source": [
    "t_gpu = t.to(\"cuda:0\")\n",
    "t_gpu.storage().device"
   ]
  },
  {
   "cell_type": "markdown",
   "id": "884c55d1-0405-4e43-bf73-83884910881e",
   "metadata": {},
   "source": [
    "![Trace](images/profiler_screenshot.png)"
   ]
  },
  {
   "cell_type": "code",
   "execution_count": 74,
   "id": "1990daf9-3c60-49cb-9e3d-ebadd40de353",
   "metadata": {},
   "outputs": [
    {
     "data": {
      "text/plain": [
       "(0.040832958882674575, 0.26867834804579616)"
      ]
     },
     "execution_count": 74,
     "metadata": {},
     "output_type": "execute_result"
    }
   ],
   "source": [
    "random_tensor = torch.randn(size=(50000,)).pin_memory() # puts t in a special piece of memory that can be read from by the GPU\n",
    "\n",
    "t0 = perf_counter()\n",
    "\n",
    "random_tensor_cuda = random_tensor.to(\"cuda:0\", non_blocking=True) # tells the GPU to copy the tensor to gpu memory\n",
    "\n",
    "for i in range(10):\n",
    "    random_tensor_cuda = random_tensor_cuda[None, :] * random_tensor_cuda[:, None] # tells the GPU to launch a multiplication\n",
    "    random_tensor_cuda = random_tensor_cuda.sum(-1)\n",
    "    \n",
    "\n",
    "t1 = perf_counter()\n",
    "\n",
    "random_tensor_cuda.to(\"cpu\")\n",
    "\n",
    "t2 = perf_counter()\n",
    "\n",
    "t1 - t0, t2 - t1"
   ]
  },
  {
   "cell_type": "markdown",
   "id": "85512ce2-3280-406e-8cc2-b3ba21b91bc6",
   "metadata": {},
   "source": [
    "**Why is the data transfer taking so long?**"
   ]
  },
  {
   "cell_type": "code",
   "execution_count": 75,
   "id": "ab178863-04a3-433b-b67e-11461592bed6",
   "metadata": {},
   "outputs": [
    {
     "data": {
      "text/plain": [
       "(0.29398595402017236, 0.0010703420266509056)"
      ]
     },
     "execution_count": 75,
     "metadata": {},
     "output_type": "execute_result"
    }
   ],
   "source": [
    "random_tensor = torch.randn(size=(50000,)).pin_memory() # puts t in a special piece of memory that can be read from by the GPU\n",
    "\n",
    "t0 = perf_counter()\n",
    "\n",
    "random_tensor_cuda = random_tensor.to(\"cuda:0\", non_blocking=True) # tells the GPU to copy the tensor to gpu memory\n",
    "\n",
    "for i in range(10):\n",
    "    random_tensor_cuda = random_tensor_cuda[None, :] * random_tensor_cuda[:, None] # tells the GPU to launch a multiplication\n",
    "    random_tensor_cuda = random_tensor_cuda.sum(-1)\n",
    "\n",
    "torch.cuda.synchronize() # actually waits for all those operations to be finished ! \"sychronizes\"\n",
    "\n",
    "t1 = perf_counter()\n",
    "\n",
    "random_tensor_cuda.to(\"cpu\") \n",
    "\n",
    "t2 = perf_counter()\n",
    "t1 - t0, t2 - t1"
   ]
  },
  {
   "cell_type": "markdown",
   "id": "9dfaef78-ee40-458c-94e2-3b02bb44da31",
   "metadata": {},
   "source": [
    "**Note:** I chose this operation because it is pretty long even on a tensor of this size. *data transfers* and *calls* have non-negligible overhead otherwise"
   ]
  },
  {
   "cell_type": "markdown",
   "id": "7508ced9-9f3b-4d7c-b8ce-e700680ef1de",
   "metadata": {},
   "source": [
    "# Autograd"
   ]
  },
  {
   "cell_type": "code",
   "execution_count": 104,
   "id": "6476ec28-775e-4185-bf40-296d56a6547e",
   "metadata": {},
   "outputs": [
    {
     "name": "stdout",
     "output_type": "stream",
     "text": [
      "stride:  (1,)\n",
      "shape:  (12,)\n",
      "contiguous?  True\n",
      "\n"
     ]
    },
    {
     "data": {
      "application/vnd.jupyter.widget-view+json": {
       "model_id": "5113f1f0afc1461cbdb4e9167aba2e97",
       "version_major": 2,
       "version_minor": 0
      },
      "text/plain": [
       "HBox(children=(Output(), Output()))"
      ]
     },
     "metadata": {},
     "output_type": "display_data"
    }
   ],
   "source": [
    "t = torch.arange(12, dtype=torch.float32)\n",
    "t.requires_grad_(True)\n",
    "print_characterestics(t)\n",
    "display_tensor_and_storage(t)"
   ]
  },
  {
   "cell_type": "code",
   "execution_count": 105,
   "id": "cfc635f5-1bcc-4899-939e-2b7df9374f65",
   "metadata": {},
   "outputs": [
    {
     "data": {
      "text/plain": [
       "tensor([ 2.,  3.,  4.,  5.,  6.,  7.,  8.,  9., 10., 11., 12., 13.],\n",
       "       grad_fn=<AddBackward0>)"
      ]
     },
     "execution_count": 105,
     "metadata": {},
     "output_type": "execute_result"
    }
   ],
   "source": [
    "t = t + 2\n",
    "t"
   ]
  },
  {
   "cell_type": "code",
   "execution_count": 106,
   "id": "094b9bff-395d-41d5-921d-b1126e36cf4f",
   "metadata": {},
   "outputs": [
    {
     "data": {
      "text/plain": [
       "tensor([ -0.8347,  -2.3018,   4.7768, -11.0385,   4.5738,   6.9467,  11.5775,\n",
       "         -8.5604,  -6.9612,  12.0964,   1.1939, -11.1874],\n",
       "       grad_fn=<MulBackward0>)"
      ]
     },
     "execution_count": 106,
     "metadata": {},
     "output_type": "execute_result"
    }
   ],
   "source": [
    "u = torch.randn(12)\n",
    "t = t * u\n",
    "t"
   ]
  },
  {
   "cell_type": "code",
   "execution_count": 107,
   "id": "ead8489e-96fc-40e0-b7d6-94d1bc08f4d3",
   "metadata": {},
   "outputs": [
    {
     "data": {
      "image/svg+xml": [
       "<?xml version=\"1.0\" encoding=\"UTF-8\" standalone=\"no\"?>\n",
       "<!DOCTYPE svg PUBLIC \"-//W3C//DTD SVG 1.1//EN\"\n",
       " \"http://www.w3.org/Graphics/SVG/1.1/DTD/svg11.dtd\">\n",
       "<!-- Generated by graphviz version 2.50.0 (0)\n",
       " -->\n",
       "<!-- Pages: 1 -->\n",
       "<svg width=\"109pt\" height=\"271pt\"\n",
       " viewBox=\"0.00 0.00 109.00 271.00\" xmlns=\"http://www.w3.org/2000/svg\" xmlns:xlink=\"http://www.w3.org/1999/xlink\">\n",
       "<g id=\"graph0\" class=\"graph\" transform=\"scale(1 1) rotate(0) translate(4 267)\">\n",
       "<polygon fill=\"white\" stroke=\"transparent\" points=\"-4,4 -4,-267 105,-267 105,4 -4,4\"/>\n",
       "<!-- 139677773516240 -->\n",
       "<g id=\"node1\" class=\"node\">\n",
       "<title>139677773516240</title>\n",
       "<polygon fill=\"#caff70\" stroke=\"black\" points=\"77.5,-31 23.5,-31 23.5,0 77.5,0 77.5,-31\"/>\n",
       "<text text-anchor=\"middle\" x=\"50.5\" y=\"-7\" font-family=\"monospace\" font-size=\"10.00\"> (12)</text>\n",
       "</g>\n",
       "<!-- 139677812162032 -->\n",
       "<g id=\"node2\" class=\"node\">\n",
       "<title>139677812162032</title>\n",
       "<polygon fill=\"lightgrey\" stroke=\"black\" points=\"95,-86 6,-86 6,-67 95,-67 95,-86\"/>\n",
       "<text text-anchor=\"middle\" x=\"50.5\" y=\"-74\" font-family=\"monospace\" font-size=\"10.00\">MulBackward0</text>\n",
       "</g>\n",
       "<!-- 139677812162032&#45;&gt;139677773516240 -->\n",
       "<g id=\"edge4\" class=\"edge\">\n",
       "<title>139677812162032&#45;&gt;139677773516240</title>\n",
       "<path fill=\"none\" stroke=\"black\" d=\"M50.5,-66.79C50.5,-60.07 50.5,-50.4 50.5,-41.34\"/>\n",
       "<polygon fill=\"black\" stroke=\"black\" points=\"54,-41.19 50.5,-31.19 47,-41.19 54,-41.19\"/>\n",
       "</g>\n",
       "<!-- 139677812162464 -->\n",
       "<g id=\"node3\" class=\"node\">\n",
       "<title>139677812162464</title>\n",
       "<polygon fill=\"lightgrey\" stroke=\"black\" points=\"95,-141 6,-141 6,-122 95,-122 95,-141\"/>\n",
       "<text text-anchor=\"middle\" x=\"50.5\" y=\"-129\" font-family=\"monospace\" font-size=\"10.00\">AddBackward0</text>\n",
       "</g>\n",
       "<!-- 139677812162464&#45;&gt;139677812162032 -->\n",
       "<g id=\"edge1\" class=\"edge\">\n",
       "<title>139677812162464&#45;&gt;139677812162032</title>\n",
       "<path fill=\"none\" stroke=\"black\" d=\"M50.5,-121.75C50.5,-114.8 50.5,-104.85 50.5,-96.13\"/>\n",
       "<polygon fill=\"black\" stroke=\"black\" points=\"54,-96.09 50.5,-86.09 47,-96.09 54,-96.09\"/>\n",
       "</g>\n",
       "<!-- 139677812158240 -->\n",
       "<g id=\"node4\" class=\"node\">\n",
       "<title>139677812158240</title>\n",
       "<polygon fill=\"lightgrey\" stroke=\"black\" points=\"101,-196 0,-196 0,-177 101,-177 101,-196\"/>\n",
       "<text text-anchor=\"middle\" x=\"50.5\" y=\"-184\" font-family=\"monospace\" font-size=\"10.00\">AccumulateGrad</text>\n",
       "</g>\n",
       "<!-- 139677812158240&#45;&gt;139677812162464 -->\n",
       "<g id=\"edge2\" class=\"edge\">\n",
       "<title>139677812158240&#45;&gt;139677812162464</title>\n",
       "<path fill=\"none\" stroke=\"black\" d=\"M50.5,-176.75C50.5,-169.8 50.5,-159.85 50.5,-151.13\"/>\n",
       "<polygon fill=\"black\" stroke=\"black\" points=\"54,-151.09 50.5,-141.09 47,-151.09 54,-151.09\"/>\n",
       "</g>\n",
       "<!-- 139677773429840 -->\n",
       "<g id=\"node5\" class=\"node\">\n",
       "<title>139677773429840</title>\n",
       "<polygon fill=\"lightblue\" stroke=\"black\" points=\"77.5,-263 23.5,-263 23.5,-232 77.5,-232 77.5,-263\"/>\n",
       "<text text-anchor=\"middle\" x=\"50.5\" y=\"-239\" font-family=\"monospace\" font-size=\"10.00\"> (12)</text>\n",
       "</g>\n",
       "<!-- 139677773429840&#45;&gt;139677812158240 -->\n",
       "<g id=\"edge3\" class=\"edge\">\n",
       "<title>139677773429840&#45;&gt;139677812158240</title>\n",
       "<path fill=\"none\" stroke=\"black\" d=\"M50.5,-231.92C50.5,-224.22 50.5,-214.69 50.5,-206.43\"/>\n",
       "<polygon fill=\"black\" stroke=\"black\" points=\"54,-206.25 50.5,-196.25 47,-206.25 54,-206.25\"/>\n",
       "</g>\n",
       "</g>\n",
       "</svg>\n"
      ],
      "text/plain": [
       "<graphviz.graphs.Digraph at 0x7f09466811d0>"
      ]
     },
     "execution_count": 107,
     "metadata": {},
     "output_type": "execute_result"
    }
   ],
   "source": [
    "make_dot(t)"
   ]
  },
  {
   "cell_type": "markdown",
   "id": "3f7e2e55-d0cc-4392-85e1-b48fe8245413",
   "metadata": {},
   "source": [
    "What about a more complicated example (taken directly from the [torchviz readme](https://github.com/szagoruyko/pytorchviz#usage)"
   ]
  },
  {
   "cell_type": "code",
   "execution_count": 110,
   "id": "263ccad5-1af8-4477-9ddd-822d6cb7f465",
   "metadata": {},
   "outputs": [
    {
     "data": {
      "image/svg+xml": [
       "<?xml version=\"1.0\" encoding=\"UTF-8\" standalone=\"no\"?>\n",
       "<!DOCTYPE svg PUBLIC \"-//W3C//DTD SVG 1.1//EN\"\n",
       " \"http://www.w3.org/Graphics/SVG/1.1/DTD/svg11.dtd\">\n",
       "<!-- Generated by graphviz version 2.50.0 (0)\n",
       " -->\n",
       "<!-- Pages: 1 -->\n",
       "<svg width=\"340pt\" height=\"468pt\"\n",
       " viewBox=\"0.00 0.00 340.00 468.00\" xmlns=\"http://www.w3.org/2000/svg\" xmlns:xlink=\"http://www.w3.org/1999/xlink\">\n",
       "<g id=\"graph0\" class=\"graph\" transform=\"scale(1 1) rotate(0) translate(4 464)\">\n",
       "<polygon fill=\"white\" stroke=\"transparent\" points=\"-4,4 -4,-464 336,-464 336,4 -4,4\"/>\n",
       "<!-- 139677773611568 -->\n",
       "<g id=\"node1\" class=\"node\">\n",
       "<title>139677773611568</title>\n",
       "<polygon fill=\"#caff70\" stroke=\"black\" points=\"193.5,-31 139.5,-31 139.5,0 193.5,0 193.5,-31\"/>\n",
       "<text text-anchor=\"middle\" x=\"166.5\" y=\"-7\" font-family=\"monospace\" font-size=\"10.00\"> ()</text>\n",
       "</g>\n",
       "<!-- 139677812156848 -->\n",
       "<g id=\"node2\" class=\"node\">\n",
       "<title>139677812156848</title>\n",
       "<polygon fill=\"lightgrey\" stroke=\"black\" points=\"214,-86 119,-86 119,-67 214,-67 214,-86\"/>\n",
       "<text text-anchor=\"middle\" x=\"166.5\" y=\"-74\" font-family=\"monospace\" font-size=\"10.00\">MeanBackward0</text>\n",
       "</g>\n",
       "<!-- 139677812156848&#45;&gt;139677773611568 -->\n",
       "<g id=\"edge14\" class=\"edge\">\n",
       "<title>139677812156848&#45;&gt;139677773611568</title>\n",
       "<path fill=\"none\" stroke=\"black\" d=\"M166.5,-66.79C166.5,-60.07 166.5,-50.4 166.5,-41.34\"/>\n",
       "<polygon fill=\"black\" stroke=\"black\" points=\"170,-41.19 166.5,-31.19 163,-41.19 170,-41.19\"/>\n",
       "</g>\n",
       "<!-- 139677812155264 -->\n",
       "<g id=\"node3\" class=\"node\">\n",
       "<title>139677812155264</title>\n",
       "<polygon fill=\"lightgrey\" stroke=\"black\" points=\"217,-141 116,-141 116,-122 217,-122 217,-141\"/>\n",
       "<text text-anchor=\"middle\" x=\"166.5\" y=\"-129\" font-family=\"monospace\" font-size=\"10.00\">AddmmBackward0</text>\n",
       "</g>\n",
       "<!-- 139677812155264&#45;&gt;139677812156848 -->\n",
       "<g id=\"edge1\" class=\"edge\">\n",
       "<title>139677812155264&#45;&gt;139677812156848</title>\n",
       "<path fill=\"none\" stroke=\"black\" d=\"M166.5,-121.75C166.5,-114.8 166.5,-104.85 166.5,-96.13\"/>\n",
       "<polygon fill=\"black\" stroke=\"black\" points=\"170,-96.09 166.5,-86.09 163,-96.09 170,-96.09\"/>\n",
       "</g>\n",
       "<!-- 139677812146672 -->\n",
       "<g id=\"node4\" class=\"node\">\n",
       "<title>139677812146672</title>\n",
       "<polygon fill=\"lightgrey\" stroke=\"black\" points=\"101,-196 0,-196 0,-177 101,-177 101,-196\"/>\n",
       "<text text-anchor=\"middle\" x=\"50.5\" y=\"-184\" font-family=\"monospace\" font-size=\"10.00\">AccumulateGrad</text>\n",
       "</g>\n",
       "<!-- 139677812146672&#45;&gt;139677812155264 -->\n",
       "<g id=\"edge2\" class=\"edge\">\n",
       "<title>139677812146672&#45;&gt;139677812155264</title>\n",
       "<path fill=\"none\" stroke=\"black\" d=\"M69.14,-176.98C87.8,-168.46 116.75,-155.23 138.24,-145.41\"/>\n",
       "<polygon fill=\"black\" stroke=\"black\" points=\"139.88,-148.51 147.52,-141.17 136.97,-142.14 139.88,-148.51\"/>\n",
       "</g>\n",
       "<!-- 139677773611376 -->\n",
       "<g id=\"node5\" class=\"node\">\n",
       "<title>139677773611376</title>\n",
       "<polygon fill=\"lightblue\" stroke=\"black\" points=\"80,-262 21,-262 21,-232 80,-232 80,-262\"/>\n",
       "<text text-anchor=\"middle\" x=\"50.5\" y=\"-250\" font-family=\"monospace\" font-size=\"10.00\">W1.bias</text>\n",
       "<text text-anchor=\"middle\" x=\"50.5\" y=\"-239\" font-family=\"monospace\" font-size=\"10.00\"> (1)</text>\n",
       "</g>\n",
       "<!-- 139677773611376&#45;&gt;139677812146672 -->\n",
       "<g id=\"edge3\" class=\"edge\">\n",
       "<title>139677773611376&#45;&gt;139677812146672</title>\n",
       "<path fill=\"none\" stroke=\"black\" d=\"M50.5,-231.84C50.5,-224.21 50.5,-214.7 50.5,-206.45\"/>\n",
       "<polygon fill=\"black\" stroke=\"black\" points=\"54,-206.27 50.5,-196.27 47,-206.27 54,-206.27\"/>\n",
       "</g>\n",
       "<!-- 139677812161648 -->\n",
       "<g id=\"node6\" class=\"node\">\n",
       "<title>139677812161648</title>\n",
       "<polygon fill=\"lightgrey\" stroke=\"black\" points=\"214,-196 119,-196 119,-177 214,-177 214,-196\"/>\n",
       "<text text-anchor=\"middle\" x=\"166.5\" y=\"-184\" font-family=\"monospace\" font-size=\"10.00\">TanhBackward0</text>\n",
       "</g>\n",
       "<!-- 139677812161648&#45;&gt;139677812155264 -->\n",
       "<g id=\"edge4\" class=\"edge\">\n",
       "<title>139677812161648&#45;&gt;139677812155264</title>\n",
       "<path fill=\"none\" stroke=\"black\" d=\"M166.5,-176.75C166.5,-169.8 166.5,-159.85 166.5,-151.13\"/>\n",
       "<polygon fill=\"black\" stroke=\"black\" points=\"170,-151.09 166.5,-141.09 163,-151.09 170,-151.09\"/>\n",
       "</g>\n",
       "<!-- 139677812147344 -->\n",
       "<g id=\"node7\" class=\"node\">\n",
       "<title>139677812147344</title>\n",
       "<polygon fill=\"lightgrey\" stroke=\"black\" points=\"213,-256.5 112,-256.5 112,-237.5 213,-237.5 213,-256.5\"/>\n",
       "<text text-anchor=\"middle\" x=\"162.5\" y=\"-244.5\" font-family=\"monospace\" font-size=\"10.00\">AddmmBackward0</text>\n",
       "</g>\n",
       "<!-- 139677812147344&#45;&gt;139677812161648 -->\n",
       "<g id=\"edge5\" class=\"edge\">\n",
       "<title>139677812147344&#45;&gt;139677812161648</title>\n",
       "<path fill=\"none\" stroke=\"black\" d=\"M163.09,-237.37C163.65,-229.25 164.5,-216.81 165.21,-206.39\"/>\n",
       "<polygon fill=\"black\" stroke=\"black\" points=\"168.72,-206.38 165.91,-196.17 161.73,-205.91 168.72,-206.38\"/>\n",
       "</g>\n",
       "<!-- 139677812155696 -->\n",
       "<g id=\"node8\" class=\"node\">\n",
       "<title>139677812155696</title>\n",
       "<polygon fill=\"lightgrey\" stroke=\"black\" points=\"119,-322.5 18,-322.5 18,-303.5 119,-303.5 119,-322.5\"/>\n",
       "<text text-anchor=\"middle\" x=\"68.5\" y=\"-310.5\" font-family=\"monospace\" font-size=\"10.00\">AccumulateGrad</text>\n",
       "</g>\n",
       "<!-- 139677812155696&#45;&gt;139677812147344 -->\n",
       "<g id=\"edge6\" class=\"edge\">\n",
       "<title>139677812155696&#45;&gt;139677812147344</title>\n",
       "<path fill=\"none\" stroke=\"black\" d=\"M81.18,-303.37C96.59,-292.87 122.85,-275 141.35,-262.4\"/>\n",
       "<polygon fill=\"black\" stroke=\"black\" points=\"143.43,-265.22 149.72,-256.7 139.49,-259.43 143.43,-265.22\"/>\n",
       "</g>\n",
       "<!-- 139677773527760 -->\n",
       "<g id=\"node9\" class=\"node\">\n",
       "<title>139677773527760</title>\n",
       "<polygon fill=\"lightblue\" stroke=\"black\" points=\"98,-394 39,-394 39,-364 98,-364 98,-394\"/>\n",
       "<text text-anchor=\"middle\" x=\"68.5\" y=\"-382\" font-family=\"monospace\" font-size=\"10.00\">W0.bias</text>\n",
       "<text text-anchor=\"middle\" x=\"68.5\" y=\"-371\" font-family=\"monospace\" font-size=\"10.00\"> (16)</text>\n",
       "</g>\n",
       "<!-- 139677773527760&#45;&gt;139677812155696 -->\n",
       "<g id=\"edge7\" class=\"edge\">\n",
       "<title>139677773527760&#45;&gt;139677812155696</title>\n",
       "<path fill=\"none\" stroke=\"black\" d=\"M68.5,-363.8C68.5,-354.7 68.5,-342.79 68.5,-332.9\"/>\n",
       "<polygon fill=\"black\" stroke=\"black\" points=\"72,-332.84 68.5,-322.84 65,-332.84 72,-332.84\"/>\n",
       "</g>\n",
       "<!-- 139677812147920 -->\n",
       "<g id=\"node10\" class=\"node\">\n",
       "<title>139677812147920</title>\n",
       "<polygon fill=\"lightgrey\" stroke=\"black\" points=\"214,-322.5 137,-322.5 137,-303.5 214,-303.5 214,-322.5\"/>\n",
       "<text text-anchor=\"middle\" x=\"175.5\" y=\"-310.5\" font-family=\"monospace\" font-size=\"10.00\">TBackward0</text>\n",
       "</g>\n",
       "<!-- 139677812147920&#45;&gt;139677812147344 -->\n",
       "<g id=\"edge8\" class=\"edge\">\n",
       "<title>139677812147920&#45;&gt;139677812147344</title>\n",
       "<path fill=\"none\" stroke=\"black\" d=\"M173.75,-303.37C171.86,-294.07 168.79,-278.98 166.34,-266.9\"/>\n",
       "<polygon fill=\"black\" stroke=\"black\" points=\"169.73,-266.01 164.31,-256.91 162.87,-267.4 169.73,-266.01\"/>\n",
       "</g>\n",
       "<!-- 139677812158528 -->\n",
       "<g id=\"node11\" class=\"node\">\n",
       "<title>139677812158528</title>\n",
       "<polygon fill=\"lightgrey\" stroke=\"black\" points=\"226,-388.5 125,-388.5 125,-369.5 226,-369.5 226,-388.5\"/>\n",
       "<text text-anchor=\"middle\" x=\"175.5\" y=\"-376.5\" font-family=\"monospace\" font-size=\"10.00\">AccumulateGrad</text>\n",
       "</g>\n",
       "<!-- 139677812158528&#45;&gt;139677812147920 -->\n",
       "<g id=\"edge9\" class=\"edge\">\n",
       "<title>139677812158528&#45;&gt;139677812147920</title>\n",
       "<path fill=\"none\" stroke=\"black\" d=\"M175.5,-369.37C175.5,-360.16 175.5,-345.29 175.5,-333.27\"/>\n",
       "<polygon fill=\"black\" stroke=\"black\" points=\"179,-332.91 175.5,-322.91 172,-332.91 179,-332.91\"/>\n",
       "</g>\n",
       "<!-- 139677773516912 -->\n",
       "<g id=\"node12\" class=\"node\">\n",
       "<title>139677773516912</title>\n",
       "<polygon fill=\"lightblue\" stroke=\"black\" points=\"211,-460 140,-460 140,-430 211,-430 211,-460\"/>\n",
       "<text text-anchor=\"middle\" x=\"175.5\" y=\"-448\" font-family=\"monospace\" font-size=\"10.00\">W0.weight</text>\n",
       "<text text-anchor=\"middle\" x=\"175.5\" y=\"-437\" font-family=\"monospace\" font-size=\"10.00\"> (16, 8)</text>\n",
       "</g>\n",
       "<!-- 139677773516912&#45;&gt;139677812158528 -->\n",
       "<g id=\"edge10\" class=\"edge\">\n",
       "<title>139677773516912&#45;&gt;139677812158528</title>\n",
       "<path fill=\"none\" stroke=\"black\" d=\"M175.5,-429.8C175.5,-420.7 175.5,-408.79 175.5,-398.9\"/>\n",
       "<polygon fill=\"black\" stroke=\"black\" points=\"179,-398.84 175.5,-388.84 172,-398.84 179,-398.84\"/>\n",
       "</g>\n",
       "<!-- 139677812160112 -->\n",
       "<g id=\"node13\" class=\"node\">\n",
       "<title>139677812160112</title>\n",
       "<polygon fill=\"lightgrey\" stroke=\"black\" points=\"313,-196 236,-196 236,-177 313,-177 313,-196\"/>\n",
       "<text text-anchor=\"middle\" x=\"274.5\" y=\"-184\" font-family=\"monospace\" font-size=\"10.00\">TBackward0</text>\n",
       "</g>\n",
       "<!-- 139677812160112&#45;&gt;139677812155264 -->\n",
       "<g id=\"edge11\" class=\"edge\">\n",
       "<title>139677812160112&#45;&gt;139677812155264</title>\n",
       "<path fill=\"none\" stroke=\"black\" d=\"M257.15,-176.98C239.93,-168.54 213.3,-155.47 193.35,-145.68\"/>\n",
       "<polygon fill=\"black\" stroke=\"black\" points=\"194.69,-142.43 184.17,-141.17 191.6,-148.72 194.69,-142.43\"/>\n",
       "</g>\n",
       "<!-- 139677812162080 -->\n",
       "<g id=\"node14\" class=\"node\">\n",
       "<title>139677812162080</title>\n",
       "<polygon fill=\"lightgrey\" stroke=\"black\" points=\"332,-256.5 231,-256.5 231,-237.5 332,-237.5 332,-256.5\"/>\n",
       "<text text-anchor=\"middle\" x=\"281.5\" y=\"-244.5\" font-family=\"monospace\" font-size=\"10.00\">AccumulateGrad</text>\n",
       "</g>\n",
       "<!-- 139677812162080&#45;&gt;139677812160112 -->\n",
       "<g id=\"edge12\" class=\"edge\">\n",
       "<title>139677812162080&#45;&gt;139677812160112</title>\n",
       "<path fill=\"none\" stroke=\"black\" d=\"M280.47,-237.37C279.5,-229.25 278.01,-216.81 276.76,-206.39\"/>\n",
       "<polygon fill=\"black\" stroke=\"black\" points=\"280.2,-205.68 275.54,-196.17 273.25,-206.51 280.2,-205.68\"/>\n",
       "</g>\n",
       "<!-- 139677773611280 -->\n",
       "<g id=\"node15\" class=\"node\">\n",
       "<title>139677773611280</title>\n",
       "<polygon fill=\"lightblue\" stroke=\"black\" points=\"317,-328 246,-328 246,-298 317,-298 317,-328\"/>\n",
       "<text text-anchor=\"middle\" x=\"281.5\" y=\"-316\" font-family=\"monospace\" font-size=\"10.00\">W1.weight</text>\n",
       "<text text-anchor=\"middle\" x=\"281.5\" y=\"-305\" font-family=\"monospace\" font-size=\"10.00\"> (1, 16)</text>\n",
       "</g>\n",
       "<!-- 139677773611280&#45;&gt;139677812162080 -->\n",
       "<g id=\"edge13\" class=\"edge\">\n",
       "<title>139677773611280&#45;&gt;139677812162080</title>\n",
       "<path fill=\"none\" stroke=\"black\" d=\"M281.5,-297.8C281.5,-288.7 281.5,-276.79 281.5,-266.9\"/>\n",
       "<polygon fill=\"black\" stroke=\"black\" points=\"285,-266.84 281.5,-256.84 278,-266.84 285,-266.84\"/>\n",
       "</g>\n",
       "</g>\n",
       "</svg>\n"
      ],
      "text/plain": [
       "<graphviz.graphs.Digraph at 0x7f0946641150>"
      ]
     },
     "execution_count": 110,
     "metadata": {},
     "output_type": "execute_result"
    }
   ],
   "source": [
    "model = nn.Sequential()\n",
    "model.add_module('W0', nn.Linear(8, 16))\n",
    "model.add_module('tanh', nn.Tanh())\n",
    "model.add_module('W1', nn.Linear(16, 1))\n",
    "\n",
    "x = torch.randn(1, 8)\n",
    "y = model(x)\n",
    "\n",
    "make_dot(y.mean(), params=dict(model.named_parameters()))"
   ]
  },
  {
   "cell_type": "markdown",
   "id": "b461ab74-fb75-4c7f-891e-b0f33e9fc0b1",
   "metadata": {},
   "source": [
    "Backward computations are typically hard to debug, because a lot of it is done in C code, which sometimes itself calls Python code. There is a file in the `torch` source called `derivatives.yaml` which maps every native function to its derivative\n",
    "\n",
    "**Note:** it is possible to define a custom function with a custom backward all in Python ! For example"
   ]
  },
  {
   "cell_type": "code",
   "execution_count": 115,
   "id": "96805325-45c9-4549-b9c0-b022dc20530b",
   "metadata": {},
   "outputs": [
    {
     "data": {
      "image/svg+xml": [
       "<?xml version=\"1.0\" encoding=\"UTF-8\" standalone=\"no\"?>\n",
       "<!DOCTYPE svg PUBLIC \"-//W3C//DTD SVG 1.1//EN\"\n",
       " \"http://www.w3.org/Graphics/SVG/1.1/DTD/svg11.dtd\">\n",
       "<!-- Generated by graphviz version 2.50.0 (0)\n",
       " -->\n",
       "<!-- Pages: 1 -->\n",
       "<svg width=\"489pt\" height=\"283pt\"\n",
       " viewBox=\"0.00 0.00 489.00 283.00\" xmlns=\"http://www.w3.org/2000/svg\" xmlns:xlink=\"http://www.w3.org/1999/xlink\">\n",
       "<g id=\"graph0\" class=\"graph\" transform=\"scale(1 1) rotate(0) translate(4 279)\">\n",
       "<polygon fill=\"white\" stroke=\"transparent\" points=\"-4,4 -4,-279 485,-279 485,4 -4,4\"/>\n",
       "<!-- 139676713754288 -->\n",
       "<g id=\"node1\" class=\"node\">\n",
       "<title>139676713754288</title>\n",
       "<polygon fill=\"#caff70\" stroke=\"black\" points=\"326.5,-31 272.5,-31 272.5,0 326.5,0 326.5,-31\"/>\n",
       "<text text-anchor=\"middle\" x=\"299.5\" y=\"-7\" font-family=\"monospace\" font-size=\"10.00\"> (1)</text>\n",
       "</g>\n",
       "<!-- 139676353994800 -->\n",
       "<g id=\"node2\" class=\"node\">\n",
       "<title>139676353994800</title>\n",
       "<polygon fill=\"lightgrey\" stroke=\"black\" points=\"356,-86 243,-86 243,-67 356,-67 356,-86\"/>\n",
       "<text text-anchor=\"middle\" x=\"299.5\" y=\"-74\" font-family=\"monospace\" font-size=\"10.00\">SinkhornBackward</text>\n",
       "</g>\n",
       "<!-- 139676353994800&#45;&gt;139676713754288 -->\n",
       "<g id=\"edge9\" class=\"edge\">\n",
       "<title>139676353994800&#45;&gt;139676713754288</title>\n",
       "<path fill=\"none\" stroke=\"black\" d=\"M299.5,-66.79C299.5,-60.07 299.5,-50.4 299.5,-41.34\"/>\n",
       "<polygon fill=\"black\" stroke=\"black\" points=\"303,-41.19 299.5,-31.19 296,-41.19 303,-41.19\"/>\n",
       "</g>\n",
       "<!-- 139676708808608 -->\n",
       "<g id=\"node3\" class=\"node\">\n",
       "<title>139676708808608</title>\n",
       "<polygon fill=\"lightgrey\" stroke=\"black\" points=\"208,-147 11,-147 11,-128 208,-128 208,-147\"/>\n",
       "<text text-anchor=\"middle\" x=\"109.5\" y=\"-135\" font-family=\"monospace\" font-size=\"10.00\">DiscountedWlCostMatrixBackward</text>\n",
       "</g>\n",
       "<!-- 139676708808608&#45;&gt;139676353994800 -->\n",
       "<g id=\"edge1\" class=\"edge\">\n",
       "<title>139676708808608&#45;&gt;139676353994800</title>\n",
       "<path fill=\"none\" stroke=\"black\" d=\"M137.13,-127.92C170.05,-117.7 225.23,-100.56 261.99,-89.15\"/>\n",
       "<polygon fill=\"black\" stroke=\"black\" points=\"263.33,-92.4 271.84,-86.09 261.25,-85.71 263.33,-92.4\"/>\n",
       "</g>\n",
       "<!-- 139676703050720 -->\n",
       "<g id=\"node4\" class=\"node\">\n",
       "<title>139676703050720</title>\n",
       "<polygon fill=\"lightgrey\" stroke=\"black\" points=\"101,-208 0,-208 0,-189 101,-189 101,-208\"/>\n",
       "<text text-anchor=\"middle\" x=\"50.5\" y=\"-196\" font-family=\"monospace\" font-size=\"10.00\">AccumulateGrad</text>\n",
       "</g>\n",
       "<!-- 139676703050720&#45;&gt;139676708808608 -->\n",
       "<g id=\"edge2\" class=\"edge\">\n",
       "<title>139676703050720&#45;&gt;139676708808608</title>\n",
       "<path fill=\"none\" stroke=\"black\" d=\"M59.21,-188.79C68.18,-179.82 82.38,-165.62 93.41,-154.59\"/>\n",
       "<polygon fill=\"black\" stroke=\"black\" points=\"96.16,-156.79 100.76,-147.24 91.21,-151.84 96.16,-156.79\"/>\n",
       "</g>\n",
       "<!-- 139677773430320 -->\n",
       "<g id=\"node5\" class=\"node\">\n",
       "<title>139677773430320</title>\n",
       "<polygon fill=\"lightblue\" stroke=\"black\" points=\"95,-275 6,-275 6,-244 95,-244 95,-275\"/>\n",
       "<text text-anchor=\"middle\" x=\"50.5\" y=\"-251\" font-family=\"monospace\" font-size=\"10.00\"> (1, 30, 30)</text>\n",
       "</g>\n",
       "<!-- 139677773430320&#45;&gt;139676703050720 -->\n",
       "<g id=\"edge3\" class=\"edge\">\n",
       "<title>139677773430320&#45;&gt;139676703050720</title>\n",
       "<path fill=\"none\" stroke=\"black\" d=\"M50.5,-243.92C50.5,-236.22 50.5,-226.69 50.5,-218.43\"/>\n",
       "<polygon fill=\"black\" stroke=\"black\" points=\"54,-218.25 50.5,-208.25 47,-218.25 54,-218.25\"/>\n",
       "</g>\n",
       "<!-- 139676703050192 -->\n",
       "<g id=\"node6\" class=\"node\">\n",
       "<title>139676703050192</title>\n",
       "<polygon fill=\"lightgrey\" stroke=\"black\" points=\"220,-208 119,-208 119,-189 220,-189 220,-208\"/>\n",
       "<text text-anchor=\"middle\" x=\"169.5\" y=\"-196\" font-family=\"monospace\" font-size=\"10.00\">AccumulateGrad</text>\n",
       "</g>\n",
       "<!-- 139676703050192&#45;&gt;139676708808608 -->\n",
       "<g id=\"edge4\" class=\"edge\">\n",
       "<title>139676703050192&#45;&gt;139676708808608</title>\n",
       "<path fill=\"none\" stroke=\"black\" d=\"M160.65,-188.79C151.43,-179.73 136.79,-165.34 125.54,-154.27\"/>\n",
       "<polygon fill=\"black\" stroke=\"black\" points=\"127.97,-151.76 118.39,-147.24 123.07,-156.75 127.97,-151.76\"/>\n",
       "</g>\n",
       "<!-- 139676708174448 -->\n",
       "<g id=\"node7\" class=\"node\">\n",
       "<title>139676708174448</title>\n",
       "<polygon fill=\"lightblue\" stroke=\"black\" points=\"214,-275 125,-275 125,-244 214,-244 214,-275\"/>\n",
       "<text text-anchor=\"middle\" x=\"169.5\" y=\"-251\" font-family=\"monospace\" font-size=\"10.00\"> (1, 20, 20)</text>\n",
       "</g>\n",
       "<!-- 139676708174448&#45;&gt;139676703050192 -->\n",
       "<g id=\"edge5\" class=\"edge\">\n",
       "<title>139676708174448&#45;&gt;139676703050192</title>\n",
       "<path fill=\"none\" stroke=\"black\" d=\"M169.5,-243.92C169.5,-236.22 169.5,-226.69 169.5,-218.43\"/>\n",
       "<polygon fill=\"black\" stroke=\"black\" points=\"173,-218.25 169.5,-208.25 166,-218.25 173,-218.25\"/>\n",
       "</g>\n",
       "<!-- 139676708167248 -->\n",
       "<g id=\"node8\" class=\"node\">\n",
       "<title>139676708167248</title>\n",
       "<polygon fill=\"orange\" stroke=\"black\" points=\"291,-153 226,-153 226,-122 291,-122 291,-153\"/>\n",
       "<text text-anchor=\"middle\" x=\"258.5\" y=\"-129\" font-family=\"monospace\" font-size=\"10.00\"> (1, 30)</text>\n",
       "</g>\n",
       "<!-- 139676708167248&#45;&gt;139676353994800 -->\n",
       "<g id=\"edge6\" class=\"edge\">\n",
       "<title>139676708167248&#45;&gt;139676353994800</title>\n",
       "<path fill=\"none\" stroke=\"black\" d=\"M268.63,-121.92C276.41,-110.72 286.89,-95.64 293.42,-86.25\"/>\n",
       "</g>\n",
       "<!-- 139676708166096 -->\n",
       "<g id=\"node9\" class=\"node\">\n",
       "<title>139676708166096</title>\n",
       "<polygon fill=\"orange\" stroke=\"black\" points=\"374,-153 309,-153 309,-122 374,-122 374,-153\"/>\n",
       "<text text-anchor=\"middle\" x=\"341.5\" y=\"-129\" font-family=\"monospace\" font-size=\"10.00\"> (1, 20)</text>\n",
       "</g>\n",
       "<!-- 139676708166096&#45;&gt;139676353994800 -->\n",
       "<g id=\"edge7\" class=\"edge\">\n",
       "<title>139676708166096&#45;&gt;139676353994800</title>\n",
       "<path fill=\"none\" stroke=\"black\" d=\"M331.12,-121.92C323.15,-110.72 312.42,-95.64 305.73,-86.25\"/>\n",
       "</g>\n",
       "<!-- 139676708174928 -->\n",
       "<g id=\"node10\" class=\"node\">\n",
       "<title>139676708174928</title>\n",
       "<polygon fill=\"orange\" stroke=\"black\" points=\"481,-153 392,-153 392,-122 481,-122 481,-153\"/>\n",
       "<text text-anchor=\"middle\" x=\"436.5\" y=\"-129\" font-family=\"monospace\" font-size=\"10.00\"> (1, 30, 20)</text>\n",
       "</g>\n",
       "<!-- 139676708174928&#45;&gt;139676353994800 -->\n",
       "<g id=\"edge8\" class=\"edge\">\n",
       "<title>139676708174928&#45;&gt;139676353994800</title>\n",
       "<path fill=\"none\" stroke=\"black\" d=\"M402.63,-121.92C376.49,-110.65 341.2,-95.46 319.42,-86.08\"/>\n",
       "</g>\n",
       "</g>\n",
       "</svg>\n"
      ],
      "text/plain": [
       "<graphviz.graphs.Digraph at 0x7f09043267d0>"
      ]
     },
     "execution_count": 115,
     "metadata": {},
     "output_type": "execute_result"
    }
   ],
   "source": [
    "from ot_markov_distances import discounted_wl_infty\n",
    "import networkx as nx\n",
    "from ot_markov_distances.discounted_wl import discounted_wl_infty\n",
    "from ot_markov_distances.utils import weighted_transition_matrix\n",
    "\n",
    "# generate dummy graphs\n",
    "G1 = nx.erdos_renyi_graph(30, .1, directed=True)\n",
    "G2 = nx.erdos_renyi_graph(20, .15, directed=True)\n",
    "\n",
    "# make them into markov transition matrices (with self-transition probability q=0.)\n",
    "# the unsqueeze call is to create the batch dimension\n",
    "M1 = weighted_transition_matrix(G1, q=0.).unsqueeze(0)\n",
    "M2 = weighted_transition_matrix(G2, q=0.).unsqueeze(0)\n",
    "\n",
    "M1.requires_grad_(True)\n",
    "M2.requires_grad_(True)\n",
    "\n",
    "# use the uniform distribution. This has given the stablest results in our experiments\n",
    "# as opposed to the default, the stationary distribution of the markov chain\n",
    "mu1 = torch.ones(1, 30,) /  30\n",
    "mu2 = torch.ones(1, 20,) /  20\n",
    "\n",
    "# and a random distance matrix (simulated here as the distance between random labels of size 5)\n",
    "C = torch.cdist(torch.rand(1, 30, 5), torch.rand(1, 20, 5))\n",
    "\n",
    "distance = discounted_wl_infty(M1, M2, C, muX=mu1, muY=mu2)\n",
    "\n",
    "make_dot(distance)"
   ]
  },
  {
   "cell_type": "markdown",
   "id": "8dbe0a72-bde7-4d49-a5b3-35439c3d2fec",
   "metadata": {},
   "source": [
    "# Scatter and segment / Pytorch-geometric style indexing"
   ]
  },
  {
   "cell_type": "markdown",
   "id": "401fdea3-314d-4b96-a702-b17e1f36e4d7",
   "metadata": {},
   "source": [
    "## Scatter"
   ]
  },
  {
   "cell_type": "markdown",
   "id": "fe62922f-c642-4e86-8a17-4f6aa13d28a7",
   "metadata": {},
   "source": [
    "Remember when we wanted to do message passing? we had  \n"
   ]
  },
  {
   "cell_type": "code",
   "execution_count": 77,
   "id": "86e4f1b3-67e6-49f6-95dc-f74dedb570ce",
   "metadata": {},
   "outputs": [
    {
     "name": "stdout",
     "output_type": "stream",
     "text": [
      "nodes: \n",
      "\n"
     ]
    },
    {
     "data": {
      "application/vnd.jupyter.widget-view+json": {
       "model_id": "ab8abdef875e4d4ebd5ac9a61b6554ad",
       "version_major": 2,
       "version_minor": 0
      },
      "text/plain": [
       "HBox(children=(Output(), Output()))"
      ]
     },
     "metadata": {},
     "output_type": "display_data"
    },
    {
     "name": "stdout",
     "output_type": "stream",
     "text": [
      "\n",
      "edges: \n",
      "\n"
     ]
    },
    {
     "data": {
      "application/vnd.jupyter.widget-view+json": {
       "model_id": "4873f8fb220640f9a907d6a540abb962",
       "version_major": 2,
       "version_minor": 0
      },
      "text/plain": [
       "HBox(children=(Output(), Output()))"
      ]
     },
     "metadata": {},
     "output_type": "display_data"
    }
   ],
   "source": [
    "nodes = torch.randn(5, 7)\n",
    "edges = torch.randint(5, size=(4, 2))\n",
    "print(\"nodes: \")\n",
    "display_tensor_and_storage(nodes)\n",
    "print()\n",
    "print(\"edges: \")\n",
    "display_tensor_and_storage(edges)"
   ]
  },
  {
   "cell_type": "code",
   "execution_count": null,
   "id": "7a0c61dc-427a-4cff-ace7-81d90707a668",
   "metadata": {},
   "outputs": [],
   "source": [
    "tensor_edge_j = nodes[edges[:, 1]]\n",
    "display_tensor_and_storage(tensor_edge_j)"
   ]
  },
  {
   "cell_type": "markdown",
   "id": "f564c14a-5d8e-47f9-b8a2-dcbde6cf5a1e",
   "metadata": {},
   "source": [
    "To do this, we can do a scatter operation:\n",
    "\n",
    "`scatter(src, index)`\n",
    "\n",
    "<div>\n",
    "    <img src=\"https://raw.githubusercontent.com/rusty1s/pytorch_scatter/master/docs/source/_figures/add.svg?sanitize=true\" width=500 />\n",
    "</div>\n",
    "\n",
    "This type of operation is available in the [pytorch scatter](https://pytorch-scatter.readthedocs.io/en/latest/index.html) library (that pytorch-geometric uses), and `torch` also has primitives for this, although harder to use"
   ]
  },
  {
   "cell_type": "code",
   "execution_count": null,
   "id": "d6138316-6454-4719-9f88-ef6dc4f5bfe0",
   "metadata": {},
   "outputs": [],
   "source": [
    "from torch_scatter import scatter, segment_coo\n",
    "post_message_passing = scatter(tensor_edge_j, index=edges[:, 0], dim=0)\n",
    "\n",
    "display_tensor_and_storage(post_message_passing)"
   ]
  },
  {
   "cell_type": "markdown",
   "id": "ddb4d1a5-94dd-4f17-a7c0-884fb73ecc97",
   "metadata": {},
   "source": [
    "## Segment\n",
    "\n",
    "This is a more optimized version of scatter, that needs the groups to be contiguous\n",
    "\n",
    "<div>\n",
    "    <img src=\"https://raw.githubusercontent.com/rusty1s/pytorch_scatter/master/docs/source/_figures/segment_coo.svg?sanitize=true\" width=500 />\n",
    "</div>\n",
    "\n",
    "\n",
    "This is useful for networks such as `deepsets` where you are working on sets of different sizes, where you can stack the sets in a contiguous fashion.\n",
    "\n",
    "There is a more optimized version of that primitive that uses a `ptr` array that indicates the starts of each group. In that example, `ptr = [0, 3, 4, 6, 8]`"
   ]
  },
  {
   "cell_type": "markdown",
   "id": "d912ef86-3a33-41a8-b1cd-3a80304d1197",
   "metadata": {},
   "source": [
    "# Attention\n",
    "\n",
    "## Classic attention"
   ]
  },
  {
   "cell_type": "code",
   "execution_count": 122,
   "id": "92001bc7-349f-4edf-b49f-247e39a1172d",
   "metadata": {},
   "outputs": [],
   "source": [
    "key_dim = 64\n",
    "value_dim = 10\n",
    "sequence_length = 512\n",
    "\n",
    "Q = torch.randn((sequence_length, key_dim), device = \"cuda:0\")\n",
    "K = torch.randn((sequence_length, key_dim), device = \"cuda:0\")\n",
    "V = torch.randn((sequence_length, value_dim), device = \"cuda:0\")\n",
    "\n",
    "att_logits = Q @ K.T # sequence_length, sequence_length\n",
    "att_weights = torch.softmax(att_logits, dim=-1) # sequence_length, sequence_length\n",
    "\n",
    "att_results = att_weights @ V # sequence_length, value_dim\n"
   ]
  }
 ],
 "metadata": {
  "jupytext": {
   "formats": "ipynb,auto:percent"
  },
  "kernelspec": {
   "display_name": "Python 3 (ipykernel)",
   "language": "python",
   "name": "python3"
  },
  "language_info": {
   "codemirror_mode": {
    "name": "ipython",
    "version": 3
   },
   "file_extension": ".py",
   "mimetype": "text/x-python",
   "name": "python",
   "nbconvert_exporter": "python",
   "pygments_lexer": "ipython3",
   "version": "3.11.11"
  }
 },
 "nbformat": 4,
 "nbformat_minor": 5
}
